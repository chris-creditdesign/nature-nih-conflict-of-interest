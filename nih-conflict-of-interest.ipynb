{
 "cells": [
  {
   "cell_type": "markdown",
   "metadata": {},
   "source": [
    "# Nature NIH conflict of interest investigation\n",
    "\n",
    "Working process to determine the percentage of grants given to each institution that have a FCOI (financial conflict of interest) investigation associated with them. \n",
    "\n",
    "`FCOI working doc.xlsx` - NIH FOI document listing all conflict of interest reports that investigators filed in 2012 and 2013\n",
    "\n",
    "**NIH Research Portfolio Online Reporting Tools (RePORT)** - A repository of NIH-funded research projects and access publications and patents resulting from that funding.\n",
    "\n",
    "**ExPORTER Data Catalog** [http://exporter.nih.gov/ExPORTER_Catalog.aspx](http://exporter.nih.gov/ExPORTER_Catalog.aspx) - makes downloadable versions of the data accessed through the RePORT Expenditures and Results (RePORTER) interface available to the public. "
   ]
  },
  {
   "cell_type": "markdown",
   "metadata": {},
   "source": [
    "## Download and unzip NIH Reporter files relating to fiscal years 2011-14"
   ]
  },
  {
   "cell_type": "code",
   "execution_count": 2,
   "metadata": {
    "collapsed": false,
    "scrolled": true
   },
   "outputs": [
    {
     "name": "stdout",
     "output_type": "stream",
     "text": [
      "  % Total    % Received % Xferd  Average Speed   Time    Time     Time  Current\n",
      "                                 Dload  Upload   Total   Spent    Left  Speed\n",
      "100 40.6M  100 40.6M    0     0   388k      0  0:01:47  0:01:47 --:--:--  394k\n",
      "  % Total    % Received % Xferd  Average Speed   Time    Time     Time  Current\n",
      "                                 Dload  Upload   Total   Spent    Left  Speed\n",
      "100 40.2M  100 40.2M    0     0   389k      0  0:01:45  0:01:45 --:--:--  394k\n",
      "  % Total    % Received % Xferd  Average Speed   Time    Time     Time  Current\n",
      "                                 Dload  Upload   Total   Spent    Left  Speed\n",
      "100 40.2M  100 40.2M    0     0   384k      0  0:01:47  0:01:47 --:--:--  386k\n",
      "  % Total    % Received % Xferd  Average Speed   Time    Time     Time  Current\n",
      "                                 Dload  Upload   Total   Spent    Left  Speed\n",
      "100 37.4M  100 37.4M    0     0   386k      0  0:01:39  0:01:39 --:--:--  393k\n",
      "Archive:  RePORTER_PRJ_C_FY2014.zip\n",
      "  inflating: RePORTER_PRJ_C_FY2014.csv  \n",
      "Archive:  RePORTER_PRJ_C_FY2013.zip\n",
      "  inflating: RePORTER_PRJ_C_FY2013.csv  \n",
      "Archive:  RePORTER_PRJ_C_FY2012.zip\n",
      "  inflating: RePORTER_PRJ_C_FY2012/RePORTER_PRJ_C_FY2012.csv  \n",
      "Archive:  RePORTER_PRJ_C_FY2011.zip\n",
      "  inflating: RePORTER_PRJ_C_FY2011.csv  \n"
     ]
    }
   ],
   "source": [
    "!curl -O http://exporter.nih.gov/CSVs/final/RePORTER_PRJ_C_FY2014.zip\n",
    "!curl -O http://exporter.nih.gov/CSVs/final/RePORTER_PRJ_C_FY2013.zip\n",
    "!curl -O http://exporter.nih.gov/CSVs/final/RePORTER_PRJ_C_FY2012.zip\n",
    "!curl -O http://exporter.nih.gov/CSVs/final/RePORTER_PRJ_C_FY2011.zip\n",
    "    \n",
    "!unzip RePORTER_PRJ_C_FY2014.zip \n",
    "!unzip RePORTER_PRJ_C_FY2013.zip\n",
    "!unzip RePORTER_PRJ_C_FY2012.zip\n",
    "!unzip RePORTER_PRJ_C_FY2011.zip\n",
    "\n",
    "!rm RePORTER_PRJ_C_FY2014.zip\n",
    "!rm RePORTER_PRJ_C_FY2013.zip\n",
    "!rm RePORTER_PRJ_C_FY2012.zip\n",
    "!rm RePORTER_PRJ_C_FY2011.zip"
   ]
  },
  {
   "cell_type": "markdown",
   "metadata": {
    "collapsed": false
   },
   "source": [
    "We should now have four CSV files relating to 2011,2012,2013 and 2014."
   ]
  },
  {
   "cell_type": "markdown",
   "metadata": {
    "collapsed": true
   },
   "source": [
    "## Clean and combine the NIH reporter documents"
   ]
  },
  {
   "cell_type": "markdown",
   "metadata": {},
   "source": [
    "Extract just the relevant columns from the four NIH documents into new documents and Convert `iso-8859-1` to `utf-8`."
   ]
  },
  {
   "cell_type": "code",
   "execution_count": 4,
   "metadata": {
    "collapsed": true
   },
   "outputs": [],
   "source": [
    "!in2csv -e iso-8859-1 ref/csv/RePORTER_PRJ_C_FY2014.csv | csvcut -c 'APPLICATION_ID, PROJECT_TITLE, PI_NAMEs, ORG_NAME, FUNDING_MECHANISM, FY, PROJECT_START, PROJECT_END, TOTAL_COST' > nih_2014.csv\n",
    "!in2csv -e iso-8859-1 ref/csv/RePORTER_PRJ_C_FY2013.csv | csvcut -c 'APPLICATION_ID, PROJECT_TITLE, PI_NAMEs, ORG_NAME, FUNDING_MECHANISM, FY, PROJECT_START, PROJECT_END, TOTAL_COST' > nih_2013.csv\n",
    "!in2csv -e iso-8859-1 ref/csv/RePORTER_PRJ_C_FY2012.csv | csvcut -c 'APPLICATION_ID, PROJECT_TITLE, PI_NAMEs, ORG_NAME, FUNDING_MECHANISM, FY, PROJECT_START, PROJECT_END, TOTAL_COST' > nih_2012.csv\n",
    "!in2csv -e iso-8859-1 ref/csv/RePORTER_PRJ_C_FY2011.csv | csvcut -c 'APPLICATION_ID, PROJECT_TITLE, PI_NAMEs, ORG_NAME, FUNDING_MECHANISM, FY, PROJECT_START, PROJECT_END, TOTAL_COST' > nih_2011.csv"
   ]
  },
  {
   "cell_type": "markdown",
   "metadata": {},
   "source": [
    "Combine all of the entries for all four years into one CSV file:"
   ]
  },
  {
   "cell_type": "code",
   "execution_count": 6,
   "metadata": {
    "collapsed": false
   },
   "outputs": [],
   "source": [
    "!csvstack nih_2014.csv nih_2013.csv nih_2012.csv nih_2011.csv > nih_all.csv"
   ]
  },
  {
   "cell_type": "code",
   "execution_count": 10,
   "metadata": {
    "collapsed": false
   },
   "outputs": [
    {
     "name": "stdout",
     "output_type": "stream",
     "text": [
      "  315065 nih_all.csv\r\n"
     ]
    }
   ],
   "source": [
    "!wc -l nih_all.csv #Count the number of lines in the file"
   ]
  },
  {
   "cell_type": "code",
   "execution_count": 9,
   "metadata": {
    "collapsed": false
   },
   "outputs": [
    {
     "name": "stdout",
     "output_type": "stream",
     "text": [
      "  1: APPLICATION_ID\r\n",
      "  2: PROJECT_TITLE\r\n",
      "  3: PI_NAMEs\r\n",
      "  4: ORG_NAME\r\n",
      "  5: FUNDING_MECHANISM\r\n",
      "  6: FY\r\n",
      "  7: PROJECT_START\r\n",
      "  8: PROJECT_END\r\n",
      "  9: TOTAL_COST\r\n"
     ]
    }
   ],
   "source": [
    "!csvcut -n nih_all.csv #Get a numbered list of the columns"
   ]
  },
  {
   "cell_type": "markdown",
   "metadata": {},
   "source": [
    "The regulation does not apply to Phase I Small Business Innovation Research (SBIR) and Small Business Technology Transfer (STTR) applications/awards so remove all `SBIR-STTR` entires from the `FUNDING_MECHANISM` column."
   ]
  },
  {
   "cell_type": "code",
   "execution_count": 15,
   "metadata": {
    "collapsed": false
   },
   "outputs": [],
   "source": [
    "!csvgrep -c 5 -r \"SBIR-STTR\" -i nih_all.csv > temp.csv && mv temp.csv nih_all.csv"
   ]
  },
  {
   "cell_type": "code",
   "execution_count": 16,
   "metadata": {
    "collapsed": false
   },
   "outputs": [
    {
     "name": "stdout",
     "output_type": "stream",
     "text": [
      "  308399 nih_all.csv\r\n"
     ]
    }
   ],
   "source": [
    "!wc -l nih_all.csv #Count the number of lines in the file"
   ]
  },
  {
   "cell_type": "markdown",
   "metadata": {},
   "source": [
    "## Load the combined NIH csv into a pandas dataframe"
   ]
  },
  {
   "cell_type": "code",
   "execution_count": 32,
   "metadata": {
    "collapsed": false
   },
   "outputs": [
    {
     "name": "stdout",
     "output_type": "stream",
     "text": [
      "308398\n"
     ]
    }
   ],
   "source": [
    "import pandas\n",
    "import pandasql\n",
    "\n",
    "nih_df = pandas.read_csv(\"./nih_all.csv\")\n",
    "nih_df.rename(columns = lambda x: x.replace(' ', '_').lower(), inplace=True)\n",
    "\n",
    "# Count the number of entires in the data frame\n",
    "print len(nih_df.index)\n",
    "\n",
    "nih_df.to_csv(\"./test.csv\")"
   ]
  },
  {
   "cell_type": "code",
   "execution_count": null,
   "metadata": {
    "collapsed": true
   },
   "outputs": [],
   "source": []
  }
 ],
 "metadata": {
  "kernelspec": {
   "display_name": "Python 2",
   "language": "python",
   "name": "python2"
  },
  "language_info": {
   "codemirror_mode": {
    "name": "ipython",
    "version": 2
   },
   "file_extension": ".py",
   "mimetype": "text/x-python",
   "name": "python",
   "nbconvert_exporter": "python",
   "pygments_lexer": "ipython2",
   "version": "2.7.9"
  }
 },
 "nbformat": 4,
 "nbformat_minor": 0
}
