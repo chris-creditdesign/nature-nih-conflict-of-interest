{
 "cells": [
  {
   "cell_type": "markdown",
   "metadata": {},
   "source": [
    "# Nature NIH conflict of interest investigation\n",
    "\n",
    "Working process to determine the percentage of grants given to each institution that have a FCOI (financial conflict of interest) investigation associated with them. \n",
    "\n",
    "`FCOI working doc.xlsx` - NIH FOI document listing all conflict of interest reports that investigators filed in 2012 and 2013\n",
    "\n",
    "**NIH Research Portfolio Online Reporting Tools (RePORT)** - A repository of NIH-funded research projects and access publications and patents resulting from that funding.\n",
    "\n",
    "**ExPORTER Data Catalog** [http://exporter.nih.gov/ExPORTER_Catalog.aspx](http://exporter.nih.gov/ExPORTER_Catalog.aspx) - makes downloadable versions of the data accessed through the RePORT Expenditures and Results (RePORTER) interface available to the public. "
   ]
  },
  {
   "cell_type": "markdown",
   "metadata": {},
   "source": [
    "## Download and unzip NIH Reporter files relating to fiscal years 2011-14"
   ]
  },
  {
   "cell_type": "code",
   "execution_count": 1,
   "metadata": {
    "collapsed": false,
    "scrolled": true
   },
   "outputs": [],
   "source": [
    "!curl -O http://exporter.nih.gov/CSVs/final/RePORTER_PRJ_C_FY2014.zip\n",
    "!curl -O http://exporter.nih.gov/CSVs/final/RePORTER_PRJ_C_FY2013.zip\n",
    "!curl -O http://exporter.nih.gov/CSVs/final/RePORTER_PRJ_C_FY2012.zip\n",
    "!curl -O http://exporter.nih.gov/CSVs/final/RePORTER_PRJ_C_FY2011.zip\n",
    "    \n",
    "!unzip RePORTER_PRJ_C_FY2014.zip \n",
    "!unzip RePORTER_PRJ_C_FY2013.zip\n",
    "!unzip RePORTER_PRJ_C_FY2012.zip\n",
    "!unzip RePORTER_PRJ_C_FY2011.zip\n",
    "\n",
    "!rm RePORTER_PRJ_C_FY2014.zip\n",
    "!rm RePORTER_PRJ_C_FY2013.zip\n",
    "!rm RePORTER_PRJ_C_FY2012.zip\n",
    "!rm RePORTER_PRJ_C_FY2011.zip"
   ]
  },
  {
   "cell_type": "markdown",
   "metadata": {
    "collapsed": false
   },
   "source": [
    "We should now have four CSV files relating to 2011,2012,2013 and 2014."
   ]
  },
  {
   "cell_type": "markdown",
   "metadata": {
    "collapsed": true
   },
   "source": [
    "## Clean and combine the NIH reporter documents"
   ]
  },
  {
   "cell_type": "markdown",
   "metadata": {},
   "source": [
    "Extract just the relevant columns from the four NIH documents into new documents and Convert `iso-8859-1` to `utf-8`."
   ]
  },
  {
   "cell_type": "code",
   "execution_count": 4,
   "metadata": {
    "collapsed": true
   },
   "outputs": [],
   "source": [
    "!in2csv -e iso-8859-1 ref/csv/RePORTER_PRJ_C_FY2014.csv | csvcut -c 'APPLICATION_ID, PROJECT_TITLE, PI_NAMEs, ORG_NAME, FUNDING_MECHANISM, FY, PROJECT_START, PROJECT_END, TOTAL_COST' > nih_2014.csv\n",
    "!in2csv -e iso-8859-1 ref/csv/RePORTER_PRJ_C_FY2013.csv | csvcut -c 'APPLICATION_ID, PROJECT_TITLE, PI_NAMEs, ORG_NAME, FUNDING_MECHANISM, FY, PROJECT_START, PROJECT_END, TOTAL_COST' > nih_2013.csv\n",
    "!in2csv -e iso-8859-1 ref/csv/RePORTER_PRJ_C_FY2012.csv | csvcut -c 'APPLICATION_ID, PROJECT_TITLE, PI_NAMEs, ORG_NAME, FUNDING_MECHANISM, FY, PROJECT_START, PROJECT_END, TOTAL_COST' > nih_2012.csv\n",
    "!in2csv -e iso-8859-1 ref/csv/RePORTER_PRJ_C_FY2011.csv | csvcut -c 'APPLICATION_ID, PROJECT_TITLE, PI_NAMEs, ORG_NAME, FUNDING_MECHANISM, FY, PROJECT_START, PROJECT_END, TOTAL_COST' > nih_2011.csv"
   ]
  },
  {
   "cell_type": "markdown",
   "metadata": {},
   "source": [
    "Combine all of the entries for all four years into one CSV file:"
   ]
  },
  {
   "cell_type": "code",
   "execution_count": 6,
   "metadata": {
    "collapsed": false
   },
   "outputs": [],
   "source": [
    "!csvstack nih_2014.csv nih_2013.csv nih_2012.csv nih_2011.csv > nih_all.csv"
   ]
  },
  {
   "cell_type": "code",
   "execution_count": 10,
   "metadata": {
    "collapsed": false
   },
   "outputs": [
    {
     "name": "stdout",
     "output_type": "stream",
     "text": [
      "  315065 nih_all.csv\r\n"
     ]
    }
   ],
   "source": [
    "!wc -l nih_all.csv #Count the number of lines in the file"
   ]
  },
  {
   "cell_type": "code",
   "execution_count": 9,
   "metadata": {
    "collapsed": false,
    "scrolled": false
   },
   "outputs": [
    {
     "name": "stdout",
     "output_type": "stream",
     "text": [
      "  1: APPLICATION_ID\r\n",
      "  2: PROJECT_TITLE\r\n",
      "  3: PI_NAMEs\r\n",
      "  4: ORG_NAME\r\n",
      "  5: FUNDING_MECHANISM\r\n",
      "  6: FY\r\n",
      "  7: PROJECT_START\r\n",
      "  8: PROJECT_END\r\n",
      "  9: TOTAL_COST\r\n"
     ]
    }
   ],
   "source": [
    "!csvcut -n nih_all.csv #Get a numbered list of the columns"
   ]
  },
  {
   "cell_type": "markdown",
   "metadata": {},
   "source": [
    "The regulation does not apply to Phase I Small Business Innovation Research (SBIR) and Small Business Technology Transfer (STTR) applications/awards so remove all `SBIR-STTR` entires from the `FUNDING_MECHANISM` column."
   ]
  },
  {
   "cell_type": "code",
   "execution_count": 15,
   "metadata": {
    "collapsed": false
   },
   "outputs": [],
   "source": [
    "!csvgrep -c 5 -r \"SBIR-STTR\" -i nih_all.csv > temp.csv && mv temp.csv nih_all.csv"
   ]
  },
  {
   "cell_type": "code",
   "execution_count": 16,
   "metadata": {
    "collapsed": false
   },
   "outputs": [
    {
     "name": "stdout",
     "output_type": "stream",
     "text": [
      "  308399 nih_all.csv\r\n"
     ]
    }
   ],
   "source": [
    "!wc -l nih_all.csv #Count the number of lines in the file"
   ]
  },
  {
   "cell_type": "markdown",
   "metadata": {},
   "source": [
    "##Import pandas, pandasql and csvkit"
   ]
  },
  {
   "cell_type": "code",
   "execution_count": 2,
   "metadata": {
    "collapsed": true
   },
   "outputs": [],
   "source": [
    "import pandas\n",
    "import pandasql\n",
    "import csvkit"
   ]
  },
  {
   "cell_type": "markdown",
   "metadata": {},
   "source": [
    "## Load the combined NIH csv into a pandas dataframe"
   ]
  },
  {
   "cell_type": "code",
   "execution_count": 16,
   "metadata": {
    "collapsed": false,
    "scrolled": false
   },
   "outputs": [],
   "source": [
    "nih_df = pandas.read_csv(\"./nih_all.csv\")\n",
    "nih_df.rename(columns = lambda x: x.replace(' ', '_').lower(), inplace=True)\n",
    "\n",
    "nih_org_series = nih_df['org_name'].value_counts()\n",
    "nih_org_df = pandas.DataFrame(nih_org_series, columns=['total-grants'])"
   ]
  },
  {
   "cell_type": "code",
   "execution_count": 38,
   "metadata": {
    "collapsed": false
   },
   "outputs": [
    {
     "name": "stdout",
     "output_type": "stream",
     "text": [
      "Before: \n",
      "0                                     BAR-SAGI, DAFNA;\n",
      "1                                     BAR-SAGI, DAFNA;\n",
      "2    ELLNER, JERROLD J. (contact);JOLOBA, MOSES LUT...\n",
      "3    DESHPANDE, SMITA N;MANSOUR, HADER A.;NIMGAONKA...\n",
      "4    TIRSCHWELL, DAVID L;ZUNT, JOSEPH RAYMOND (cont...\n",
      "Name: pi_names, dtype: object\n",
      "\n",
      "\n",
      "After: \n",
      "0                                      BAR-SAGI, DAFNA\n",
      "1                                      BAR-SAGI, DAFNA\n",
      "2    ELLNER, JERROLD J. (contact);JOLOBA, MOSES LUT...\n",
      "3    DESHPANDE, SMITA N;MANSOUR, HADER A.;NIMGAONKA...\n",
      "4    TIRSCHWELL, DAVID L;ZUNT, JOSEPH RAYMOND (cont...\n",
      "Name: pi_names, dtype: object\n"
     ]
    }
   ],
   "source": [
    "# Each pi_name ends with a semi-colon\n",
    "# Well need to remove these in order to merge with the FCOI names\n",
    "print \"Before: \"\n",
    "print nih_df['pi_names'].head()\n",
    "\n",
    "nih_df['pi_names'] = nih_df['pi_names'].map(lambda x: str(x)[:-1])\n",
    "\n",
    "print \"\\n\"\n",
    "print \"After: \"\n",
    "print nih_df['pi_names'].head()"
   ]
  },
  {
   "cell_type": "code",
   "execution_count": 17,
   "metadata": {
    "collapsed": false
   },
   "outputs": [
    {
     "data": {
      "text/html": [
       "<div style=\"max-height:1000px;max-width:1500px;overflow:auto;\">\n",
       "<table border=\"1\" class=\"dataframe\">\n",
       "  <thead>\n",
       "    <tr style=\"text-align: right;\">\n",
       "      <th></th>\n",
       "      <th>total-grants</th>\n",
       "    </tr>\n",
       "  </thead>\n",
       "  <tbody>\n",
       "    <tr>\n",
       "      <th>JOHNS HOPKINS UNIVERSITY</th>\n",
       "      <td> 6705</td>\n",
       "    </tr>\n",
       "    <tr>\n",
       "      <th>UNIVERSITY OF CALIFORNIA, SAN FRANCISCO</th>\n",
       "      <td> 6289</td>\n",
       "    </tr>\n",
       "    <tr>\n",
       "      <th>UNIVERSITY OF PENNSYLVANIA</th>\n",
       "      <td> 5807</td>\n",
       "    </tr>\n",
       "  </tbody>\n",
       "</table>\n",
       "</div>"
      ],
      "text/plain": [
       "                                         total-grants\n",
       "JOHNS HOPKINS UNIVERSITY                         6705\n",
       "UNIVERSITY OF CALIFORNIA, SAN FRANCISCO          6289\n",
       "UNIVERSITY OF PENNSYLVANIA                       5807"
      ]
     },
     "execution_count": 17,
     "metadata": {},
     "output_type": "execute_result"
    }
   ],
   "source": [
    "# Count of grants per institution\n",
    "nih_org_df.head(3)"
   ]
  },
  {
   "cell_type": "code",
   "execution_count": 39,
   "metadata": {
    "collapsed": true
   },
   "outputs": [],
   "source": [
    "nih_person_series = nih_df['pi_names'].value_counts()\n",
    "nih_person_df = pandas.DataFrame(nih_person_series, columns=['total-grants'])"
   ]
  },
  {
   "cell_type": "code",
   "execution_count": 40,
   "metadata": {
    "collapsed": false
   },
   "outputs": [
    {
     "data": {
      "text/html": [
       "<div style=\"max-height:1000px;max-width:1500px;overflow:auto;\">\n",
       "<table border=\"1\" class=\"dataframe\">\n",
       "  <thead>\n",
       "    <tr style=\"text-align: right;\">\n",
       "      <th></th>\n",
       "      <th>total-grants</th>\n",
       "    </tr>\n",
       "  </thead>\n",
       "  <tbody>\n",
       "    <tr>\n",
       "      <th>, </th>\n",
       "      <td> 1555</td>\n",
       "    </tr>\n",
       "    <tr>\n",
       "      <th>HEIMBROOK, DAVID</th>\n",
       "      <td>  235</td>\n",
       "    </tr>\n",
       "    <tr>\n",
       "      <th>WEINER, GEORGE J</th>\n",
       "      <td>  154</td>\n",
       "    </tr>\n",
       "    <tr>\n",
       "      <th>CARBONE, MICHELE</th>\n",
       "      <td>  114</td>\n",
       "    </tr>\n",
       "  </tbody>\n",
       "</table>\n",
       "</div>"
      ],
      "text/plain": [
       "                  total-grants\n",
       ",                         1555\n",
       "HEIMBROOK, DAVID           235\n",
       "WEINER, GEORGE J           154\n",
       "CARBONE, MICHELE           114"
      ]
     },
     "execution_count": 40,
     "metadata": {},
     "output_type": "execute_result"
    }
   ],
   "source": [
    "# Count of grants per person\n",
    "nih_person_df.head(4)"
   ]
  },
  {
   "cell_type": "markdown",
   "metadata": {},
   "source": [
    "## Load the FCOI data into a pandas dataframe"
   ]
  },
  {
   "cell_type": "code",
   "execution_count": 7,
   "metadata": {
    "collapsed": false
   },
   "outputs": [],
   "source": [
    "!in2csv --sheet Colored \"FCOI working doc.xlsx\" > fcoi.csv"
   ]
  },
  {
   "cell_type": "code",
   "execution_count": 31,
   "metadata": {
    "collapsed": false
   },
   "outputs": [
    {
     "name": "stdout",
     "output_type": "stream",
     "text": [
      "  1: FCOI_ID\r\n",
      "  2: GRANT NUMBER\r\n",
      "  3: FCOI REPORT TYPE\r\n",
      "  4: FCOI INVESTIGATOR NAME\r\n",
      "  5: FCOI SFI NATURE DESCRIPTION\r\n",
      "  6: GRANT TITLE\r\n",
      "  7: CONTACT PD/PI NAME\r\n",
      "  8: SUBMITTING INSTITUTION\r\n",
      "  9: SUBRECIPIENT INSTITUTION NAME\r\n",
      " 10: FCOI AMOUNT VALUE\r\n",
      " 11: Value ordered\r\n"
     ]
    }
   ],
   "source": [
    "!csvcut -n fcoi.csv #Get a numbered list of the columns"
   ]
  },
  {
   "cell_type": "code",
   "execution_count": 25,
   "metadata": {
    "collapsed": false
   },
   "outputs": [],
   "source": [
    "fcoi_df = pandas.read_csv(\"./fcoi.csv\")\n",
    "fcoi_df.rename(columns = lambda x: x.replace(' ','_').lower(),  inplace=True)\n",
    "\n",
    "fcoi_org_series = fcoi_df['submitting_institution'].value_counts()\n",
    "fcoi_org_df = pandas.DataFrame(fcoi_org_series, columns=['total-fcoi-claims'])\n",
    "\n",
    "fcoi_person_series = fcoi_df['contact_pd/pi_name'].value_counts()\n",
    "fcoi_person_df = pandas.DataFrame(fcoi_person_series, columns=['totas-fcoi-claims'])"
   ]
  },
  {
   "cell_type": "code",
   "execution_count": 23,
   "metadata": {
    "collapsed": false
   },
   "outputs": [
    {
     "data": {
      "text/html": [
       "<div style=\"max-height:1000px;max-width:1500px;overflow:auto;\">\n",
       "<table border=\"1\" class=\"dataframe\">\n",
       "  <thead>\n",
       "    <tr style=\"text-align: right;\">\n",
       "      <th></th>\n",
       "      <th>total-fcoi-claims</th>\n",
       "    </tr>\n",
       "  </thead>\n",
       "  <tbody>\n",
       "    <tr>\n",
       "      <th>UNIVERSITY OF WISCONSIN-MADISON</th>\n",
       "      <td> 657</td>\n",
       "    </tr>\n",
       "    <tr>\n",
       "      <th>UNIVERSITY OF ALABAMA AT BIRMINGHAM</th>\n",
       "      <td> 522</td>\n",
       "    </tr>\n",
       "    <tr>\n",
       "      <th>BRIGHAM AND WOMEN'S HOSP., INC.</th>\n",
       "      <td> 172</td>\n",
       "    </tr>\n",
       "  </tbody>\n",
       "</table>\n",
       "</div>"
      ],
      "text/plain": [
       "                                     total-fcoi-claims\n",
       "UNIVERSITY OF WISCONSIN-MADISON                    657\n",
       "UNIVERSITY OF ALABAMA AT BIRMINGHAM                522\n",
       "BRIGHAM AND WOMEN'S HOSP., INC.                    172"
      ]
     },
     "execution_count": 23,
     "metadata": {},
     "output_type": "execute_result"
    }
   ],
   "source": [
    "# Count of total fcoi claims per institution\n",
    "fcoi_org_df.head(3)"
   ]
  },
  {
   "cell_type": "code",
   "execution_count": 26,
   "metadata": {
    "collapsed": false
   },
   "outputs": [
    {
     "data": {
      "text/html": [
       "<div style=\"max-height:1000px;max-width:1500px;overflow:auto;\">\n",
       "<table border=\"1\" class=\"dataframe\">\n",
       "  <thead>\n",
       "    <tr style=\"text-align: right;\">\n",
       "      <th></th>\n",
       "      <th>totas-fcoi-claims</th>\n",
       "    </tr>\n",
       "  </thead>\n",
       "  <tbody>\n",
       "    <tr>\n",
       "      <th>LUO, MING </th>\n",
       "      <td> 70</td>\n",
       "    </tr>\n",
       "    <tr>\n",
       "      <th>Whitley, Richard J.</th>\n",
       "      <td> 62</td>\n",
       "    </tr>\n",
       "    <tr>\n",
       "      <th>ROBB, RICHARD A</th>\n",
       "      <td> 53</td>\n",
       "    </tr>\n",
       "  </tbody>\n",
       "</table>\n",
       "</div>"
      ],
      "text/plain": [
       "                     totas-fcoi-claims\n",
       "LUO, MING                           70\n",
       "Whitley, Richard J.                 62\n",
       "ROBB, RICHARD A                     53"
      ]
     },
     "execution_count": 26,
     "metadata": {},
     "output_type": "execute_result"
    }
   ],
   "source": [
    "# Count of total fcoi claims per person\n",
    "fcoi_person_df.head(3)"
   ]
  },
  {
   "cell_type": "markdown",
   "metadata": {},
   "source": [
    "## Join the NIH and FCOI data frames for comparison"
   ]
  },
  {
   "cell_type": "code",
   "execution_count": 30,
   "metadata": {
    "collapsed": false
   },
   "outputs": [
    {
     "data": {
      "text/html": [
       "<div style=\"max-height:1000px;max-width:1500px;overflow:auto;\">\n",
       "<table border=\"1\" class=\"dataframe\">\n",
       "  <thead>\n",
       "    <tr style=\"text-align: right;\">\n",
       "      <th></th>\n",
       "      <th>total-fcoi-claims</th>\n",
       "      <th>total-grants</th>\n",
       "    </tr>\n",
       "  </thead>\n",
       "  <tbody>\n",
       "    <tr>\n",
       "      <th>JOHNS HOPKINS UNIVERSITY</th>\n",
       "      <td> 66</td>\n",
       "      <td> 6705</td>\n",
       "    </tr>\n",
       "    <tr>\n",
       "      <th>UNIVERSITY OF CALIFORNIA, SAN FRANCISCO</th>\n",
       "      <td> 29</td>\n",
       "      <td> 6289</td>\n",
       "    </tr>\n",
       "    <tr>\n",
       "      <th>UNIVERSITY OF PENNSYLVANIA</th>\n",
       "      <td> 94</td>\n",
       "      <td> 5807</td>\n",
       "    </tr>\n",
       "    <tr>\n",
       "      <th>UNIVERSITY OF MICHIGAN</th>\n",
       "      <td> 76</td>\n",
       "      <td> 5336</td>\n",
       "    </tr>\n",
       "    <tr>\n",
       "      <th>UNIVERSITY OF WASHINGTON</th>\n",
       "      <td> 46</td>\n",
       "      <td> 5146</td>\n",
       "    </tr>\n",
       "  </tbody>\n",
       "</table>\n",
       "</div>"
      ],
      "text/plain": [
       "                                         total-fcoi-claims  total-grants\n",
       "JOHNS HOPKINS UNIVERSITY                                66          6705\n",
       "UNIVERSITY OF CALIFORNIA, SAN FRANCISCO                 29          6289\n",
       "UNIVERSITY OF PENNSYLVANIA                              94          5807\n",
       "UNIVERSITY OF MICHIGAN                                  76          5336\n",
       "UNIVERSITY OF WASHINGTON                                46          5146"
      ]
     },
     "execution_count": 30,
     "metadata": {},
     "output_type": "execute_result"
    }
   ],
   "source": [
    "# pd.merge(left_frame, right_frame, on='key', how='inner')\n",
    "org_merge = pandas.merge(fcoi_org_df, nih_org_df, left_index=True, right_index=True, how='inner')\n",
    "\n",
    "org_merge.to_csv(\"./institution_fcoi_nih.csv\")\n",
    "\n",
    "org_merge.head()"
   ]
  },
  {
   "cell_type": "code",
   "execution_count": 41,
   "metadata": {
    "collapsed": false
   },
   "outputs": [
    {
     "data": {
      "text/html": [
       "<div style=\"max-height:1000px;max-width:1500px;overflow:auto;\">\n",
       "<table border=\"1\" class=\"dataframe\">\n",
       "  <thead>\n",
       "    <tr style=\"text-align: right;\">\n",
       "      <th></th>\n",
       "      <th>totas-fcoi-claims</th>\n",
       "      <th>total-grants</th>\n",
       "    </tr>\n",
       "  </thead>\n",
       "  <tbody>\n",
       "    <tr>\n",
       "      <th>, </th>\n",
       "      <td>NaN</td>\n",
       "      <td> 1555</td>\n",
       "    </tr>\n",
       "    <tr>\n",
       "      <th>AAGAARD-TILLERY, KJERSTI MARIE</th>\n",
       "      <td>NaN</td>\n",
       "      <td>    7</td>\n",
       "    </tr>\n",
       "    <tr>\n",
       "      <th>AAKALU, VINAY</th>\n",
       "      <td>NaN</td>\n",
       "      <td>    1</td>\n",
       "    </tr>\n",
       "    <tr>\n",
       "      <th>AALBERSBERG, WILLIAM</th>\n",
       "      <td>NaN</td>\n",
       "      <td>    1</td>\n",
       "    </tr>\n",
       "    <tr>\n",
       "      <th>AALBERTS, DANIEL PAUL</th>\n",
       "      <td>NaN</td>\n",
       "      <td>    1</td>\n",
       "    </tr>\n",
       "  </tbody>\n",
       "</table>\n",
       "</div>"
      ],
      "text/plain": [
       "                                totas-fcoi-claims  total-grants\n",
       ",                                             NaN          1555\n",
       "AAGAARD-TILLERY, KJERSTI MARIE                NaN             7\n",
       "AAKALU, VINAY                                 NaN             1\n",
       "AALBERSBERG, WILLIAM                          NaN             1\n",
       "AALBERTS, DANIEL PAUL                         NaN             1"
      ]
     },
     "execution_count": 41,
     "metadata": {},
     "output_type": "execute_result"
    }
   ],
   "source": [
    "# Full outer join as there are lots of missmatches\n",
    "person_merge = pandas.merge(fcoi_person_df, nih_person_df, left_index=True, right_index=True, how='outer')\n",
    "\n",
    "person_merge.to_csv(\"./person_fcoi_nih.csv\")\n",
    "\n",
    "person_merge.head()"
   ]
  },
  {
   "cell_type": "markdown",
   "metadata": {},
   "source": [
    "##Sum up the types of claims per institution"
   ]
  },
  {
   "cell_type": "code",
   "execution_count": 42,
   "metadata": {
    "collapsed": false
   },
   "outputs": [
    {
     "data": {
      "text/plain": [
       "130"
      ]
     },
     "execution_count": 42,
     "metadata": {},
     "output_type": "execute_result"
    }
   ],
   "source": [
    "fcoi_type_of_claim_list = fcoi_df['fcoi_sfi_nature_description'].unique().tolist()\n",
    "\n",
    "len(fcoi_type_of_claim_list)\n",
    "\n",
    "# for i, v in enumerate(fcoi_type_of_claim_list):\n",
    "#     fcoi_org_df[v] = 0\n",
    "\n",
    "# # print fcoi_org_df[0:1]['Payment for services (e.g., consulting fees, honoraria, paid authorship)']\n",
    "# print fcoi_org_df.loc['UNIVERSITY OF WISCONSIN-MADISON']['Payment for services (e.g., consulting fees, honoraria, paid authorship)']\n",
    "\n",
    "\n"
   ]
  },
  {
   "cell_type": "code",
   "execution_count": 106,
   "metadata": {
    "collapsed": false
   },
   "outputs": [
    {
     "name": "stdout",
     "output_type": "stream",
     "text": [
      "total                                                           657\n",
      "Payment for services (e.g., consulting fees, honoraria, paid authorship)    272\n",
      "Equity Interest -  Non-publicly traded entity ( e.g., stock, stock option, or other ownership interest)    324\n",
      "IP rights                                                         0\n",
      "Founder with equity interest                                      0\n",
      "Reimbursed or sponsored travel                                    1\n",
      "Intellectual property rights (e.g., royalties, patents, copyrights) not from the awardee Institution      1\n",
      "CEO/Founder                                                       0\n",
      "Equity Interest - Publicly traded entity (e.g., stock, stock option, or other ownership interest)     33\n",
      "Fiduciary Board of Directors                                      0\n",
      "Member, Advisory Board                                            0\n",
      "Licensed IP through Duke                                          0\n",
      "Management Role                                                   0\n",
      "Salary not from the awardee Institution                           8\n",
      "Fiduciary Position                                                0\n",
      "...\n",
      "Acquisition of start-up           0\n",
      "Company acquisition               0\n",
      "General Compensation              3\n",
      "stock, honoraria, consulting      0\n",
      "Agreements                        0\n",
      "Advisory Role                     0\n",
      "President, Trustee, Manager       0\n",
      " IP rights                        0\n",
      "Role                              0\n",
      "Milestone payments f/Emory        0\n",
      "Uncompensated COO and Director    0\n",
      "Uncompensated CSO and Director    0\n",
      "Board of trustees                 0\n",
      "Role: Board of Trustee            0\n",
      "Advisory Board - Unpaid           0\n",
      "Name: UNIVERSITY OF WISCONSIN-MADISON, Length: 131, dtype: int64\n"
     ]
    }
   ],
   "source": [
    "reader = csvkit.DictReader(open('./fcoi.csv', 'rU'), delimiter=',')\n",
    "\n",
    "for row in reader:\n",
    "#     list_all_orgs.append(row)\n",
    "    myOrg = row['SUBMITTING INSTITUTION']\n",
    "    myType = row['FCOI SFI NATURE DESCRIPTION']\n",
    "    fcoi_org_df.loc[myOrg][myType] += 1\n",
    "    \n",
    "print fcoi_org_df.loc['UNIVERSITY OF WISCONSIN-MADISON']\n",
    "\n",
    "fcoi_org_df.to_csv(\"./fcoi_org.csv\")"
   ]
  },
  {
   "cell_type": "code",
   "execution_count": null,
   "metadata": {
    "collapsed": true
   },
   "outputs": [],
   "source": [
    "fcoi_person_df = fcoi_df['contact_pd/pi_name'].value_counts()\n",
    "\n",
    "fcoi_orgs = fcoi_df['submitting_institution'].unique()\n",
    "\n",
    "# fcoi_orgs_df= pandas.DataFrame(fcoi_orgs)\n",
    "\n",
    "# print fcoi_org_df.head()\n",
    "\n",
    "\n",
    "\n",
    "\n",
    "\n",
    "\n",
    "# dict_summed_orgs = {}\n",
    "\n",
    "# for i, v in enumerate(fcoi_orgs_list):\n",
    "#     dict_summed_orgs[v] = {}\n",
    "#     for y, x in enumerate(fcoi_type_of_claim_list):\n",
    "#         dict_summed_orgs[v][x] = 0\n",
    "    \n",
    "# print dict_summed_orgs['UNIV OF NORTH CAROLINA CHAPEL HILL']\n",
    "\n",
    "# q = \"\"\"\n",
    "# SELECT\n",
    "#     submitting_institution, fcoi_sfi_nature_description\n",
    "# FROM\n",
    "#     fcoi_df\n",
    "# GROUP BY\n",
    "#     submitting_institution\n",
    "# \"\"\"\n",
    "\n",
    "# type_per_org_df = pandasql.sqldf(q.lower(), locals())\n",
    "\n",
    "# type_per_org_df.to_csv(\"./group_test.csv\")\n",
    "\n",
    "# grouped = fcoi_df.groupby('submitting_institution')\n",
    "\n",
    "\n",
    "\n",
    "# for org, y in grouped:\n",
    "#     print y[0:1]['fcoi_sfi_nature_description']\n",
    "\n",
    "# print type_per_org_df.head()\n",
    "\n",
    "# type_per_org_df.to_csv(\"./test-type.csv\")"
   ]
  }
 ],
 "metadata": {
  "kernelspec": {
   "display_name": "Python 2",
   "language": "python",
   "name": "python2"
  },
  "language_info": {
   "codemirror_mode": {
    "name": "ipython",
    "version": 2
   },
   "file_extension": ".py",
   "mimetype": "text/x-python",
   "name": "python",
   "nbconvert_exporter": "python",
   "pygments_lexer": "ipython2",
   "version": "2.7.9"
  }
 },
 "nbformat": 4,
 "nbformat_minor": 0
}
