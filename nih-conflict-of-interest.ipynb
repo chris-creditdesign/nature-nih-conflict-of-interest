{
 "cells": [
  {
   "cell_type": "markdown",
   "metadata": {},
   "source": [
    "# Nature NIH conflict of interest investigation\n",
    "\n",
    "Working process to determine the percentage of grants given to each institution that have a FCOI (financial conflict of interest) investigation associated with them. \n",
    "\n",
    "`43736 Reardon with redactions.xls`: NIH FOI document listing all conflict of interest reports that investigators filed in 2012 and 2013\n",
    "\n",
    "**NIH Research Portfolio Online Reporting Tools (RePORT)** - A repository of NIH-funded research projects and access publications and patents resulting from that funding.\n",
    "\n",
    "**ExPORTER Data Catalog** [http://exporter.nih.gov/ExPORTER_Catalog.aspx](http://exporter.nih.gov/ExPORTER_Catalog.aspx) - makes downloadable versions of the data accessed through the RePORT Expenditures and Results (RePORTER) interface available to the public. "
   ]
  },
  {
   "cell_type": "markdown",
   "metadata": {},
   "source": [
    "## Download and unzip NIH Reporter files relating to fiscal years 2011-14"
   ]
  },
  {
   "cell_type": "code",
   "execution_count": 1,
   "metadata": {
    "collapsed": false,
    "scrolled": true
   },
   "outputs": [],
   "source": [
    "!curl -O http://exporter.nih.gov/CSVs/final/RePORTER_PRJ_C_FY2014.zip\n",
    "!curl -O http://exporter.nih.gov/CSVs/final/RePORTER_PRJ_C_FY2013.zip\n",
    "!curl -O http://exporter.nih.gov/CSVs/final/RePORTER_PRJ_C_FY2012.zip\n",
    "!curl -O http://exporter.nih.gov/CSVs/final/RePORTER_PRJ_C_FY2011.zip\n",
    "    \n",
    "!unzip RePORTER_PRJ_C_FY2014.zip \n",
    "!unzip RePORTER_PRJ_C_FY2013.zip\n",
    "!unzip RePORTER_PRJ_C_FY2012.zip\n",
    "!unzip RePORTER_PRJ_C_FY2011.zip\n",
    "\n",
    "!rm RePORTER_PRJ_C_FY2014.zip\n",
    "!rm RePORTER_PRJ_C_FY2013.zip\n",
    "!rm RePORTER_PRJ_C_FY2012.zip\n",
    "!rm RePORTER_PRJ_C_FY2011.zip"
   ]
  },
  {
   "cell_type": "markdown",
   "metadata": {
    "collapsed": false
   },
   "source": [
    "We should now have four CSV files relating to 2011,2012,2013 and 2014."
   ]
  },
  {
   "cell_type": "markdown",
   "metadata": {
    "collapsed": true
   },
   "source": [
    "## Clean and combine the NIH reporter documents"
   ]
  },
  {
   "cell_type": "markdown",
   "metadata": {},
   "source": [
    "Extract just the relevant columns from the four NIH documents into new documents and Convert `iso-8859-1` to `utf-8`."
   ]
  },
  {
   "cell_type": "code",
   "execution_count": 29,
   "metadata": {
    "collapsed": true
   },
   "outputs": [],
   "source": [
    "!in2csv -e iso-8859-1 RePORTER_PRJ_C_FY2014.csv | csvcut -c 'APPLICATION_ID, PROJECT_TITLE, PI_NAMEs, ORG_NAME, FUNDING_MECHANISM, FY, PROJECT_START, PROJECT_END, TOTAL_COST' > csv/nih_2014.csv\n",
    "!in2csv -e iso-8859-1 RePORTER_PRJ_C_FY2013.csv | csvcut -c 'APPLICATION_ID, PROJECT_TITLE, PI_NAMEs, ORG_NAME, FUNDING_MECHANISM, FY, PROJECT_START, PROJECT_END, TOTAL_COST' > csv/nih_2013.csv\n",
    "!in2csv -e iso-8859-1 RePORTER_PRJ_C_FY2012.csv | csvcut -c 'APPLICATION_ID, PROJECT_TITLE, PI_NAMEs, ORG_NAME, FUNDING_MECHANISM, FY, PROJECT_START, PROJECT_END, TOTAL_COST' > csv/nih_2012.csv\n",
    "!in2csv -e iso-8859-1 RePORTER_PRJ_C_FY2011.csv | csvcut -c 'APPLICATION_ID, PROJECT_TITLE, PI_NAMEs, ORG_NAME, FUNDING_MECHANISM, FY, PROJECT_START, PROJECT_END, TOTAL_COST' > csv/nih_2011.csv"
   ]
  },
  {
   "cell_type": "markdown",
   "metadata": {},
   "source": [
    "Combine all of the entries for all four years into one CSV file:"
   ]
  },
  {
   "cell_type": "code",
   "execution_count": 30,
   "metadata": {
    "collapsed": false
   },
   "outputs": [],
   "source": [
    "!csvstack csv/nih_2014.csv csv/nih_2013.csv csv/nih_2012.csv csv/nih_2011.csv > csv/nih_all.csv"
   ]
  },
  {
   "cell_type": "code",
   "execution_count": 31,
   "metadata": {
    "collapsed": false
   },
   "outputs": [
    {
     "name": "stdout",
     "output_type": "stream",
     "text": [
      "  315065 csv/nih_all.csv\r\n"
     ]
    }
   ],
   "source": [
    "!wc -l csv/nih_all.csv #Count the number of lines in the file"
   ]
  },
  {
   "cell_type": "code",
   "execution_count": 32,
   "metadata": {
    "collapsed": false,
    "scrolled": false
   },
   "outputs": [
    {
     "name": "stdout",
     "output_type": "stream",
     "text": [
      "  1: APPLICATION_ID\r\n",
      "  2: PROJECT_TITLE\r\n",
      "  3: PI_NAMEs\r\n",
      "  4: ORG_NAME\r\n",
      "  5: FUNDING_MECHANISM\r\n",
      "  6: FY\r\n",
      "  7: PROJECT_START\r\n",
      "  8: PROJECT_END\r\n",
      "  9: TOTAL_COST\r\n"
     ]
    }
   ],
   "source": [
    "!csvcut -n csv/nih_all.csv #Get a numbered list of the columns"
   ]
  },
  {
   "cell_type": "markdown",
   "metadata": {},
   "source": [
    "The regulation does not apply to Phase I Small Business Innovation Research (SBIR) and Small Business Technology Transfer (STTR) applications/awards so remove all `SBIR-STTR` entires from the `FUNDING_MECHANISM` column."
   ]
  },
  {
   "cell_type": "code",
   "execution_count": 33,
   "metadata": {
    "collapsed": false
   },
   "outputs": [],
   "source": [
    "!csvgrep -c 5 -r \"SBIR-STTR\" -i csv/nih_all.csv > csv/temp.csv && mv csv/temp.csv csv/nih_all.csv"
   ]
  },
  {
   "cell_type": "code",
   "execution_count": 34,
   "metadata": {
    "collapsed": false
   },
   "outputs": [
    {
     "name": "stdout",
     "output_type": "stream",
     "text": [
      "  308399 csv/nih_all.csv\r\n"
     ]
    }
   ],
   "source": [
    "!wc -l csv/nih_all.csv #Count the number of lines in the file"
   ]
  },
  {
   "cell_type": "markdown",
   "metadata": {},
   "source": [
    "## Remove redundant files"
   ]
  },
  {
   "cell_type": "code",
   "execution_count": 51,
   "metadata": {
    "collapsed": true
   },
   "outputs": [],
   "source": [
    "!rm RePORTER_PRJ_C_FY2014.csv\n",
    "!rm RePORTER_PRJ_C_FY2013.csv\n",
    "!rm RePORTER_PRJ_C_FY2012.csv\n",
    "!rm RePORTER_PRJ_C_FY2011.csv\n",
    "!rm csv/nih_2014.csv\n",
    "!rm csv/nih_2013.csv\n",
    "!rm csv/nih_2012.csv\n",
    "!rm csv/nih_2011.csv"
   ]
  },
  {
   "cell_type": "markdown",
   "metadata": {},
   "source": [
    "##Import pandas, pandasql and csvkit"
   ]
  },
  {
   "cell_type": "code",
   "execution_count": 6,
   "metadata": {
    "collapsed": true
   },
   "outputs": [],
   "source": [
    "import pandas\n",
    "import pandasql\n",
    "import csvkit"
   ]
  },
  {
   "cell_type": "markdown",
   "metadata": {},
   "source": [
    "## Load the combined NIH csv into a pandas dataframe"
   ]
  },
  {
   "cell_type": "code",
   "execution_count": 35,
   "metadata": {
    "collapsed": false,
    "scrolled": false
   },
   "outputs": [],
   "source": [
    "nih_df = pandas.read_csv(\"./csv/nih_all.csv\")\n",
    "nih_df.rename(columns = lambda x: x.replace(' ', '_').lower(), inplace=True)\n",
    "\n",
    "nih_org_series = nih_df['org_name'].value_counts()\n",
    "nih_org_df = pandas.DataFrame(nih_org_series, columns=['total-grants'])"
   ]
  },
  {
   "cell_type": "code",
   "execution_count": 36,
   "metadata": {
    "collapsed": false,
    "scrolled": true
   },
   "outputs": [
    {
     "name": "stdout",
     "output_type": "stream",
     "text": [
      "Before: \n",
      "0                                     BAR-SAGI, DAFNA;\n",
      "1                                     BAR-SAGI, DAFNA;\n",
      "2    ELLNER, JERROLD J. (contact);JOLOBA, MOSES LUT...\n",
      "3    DESHPANDE, SMITA N;MANSOUR, HADER A.;NIMGAONKA...\n",
      "4    TIRSCHWELL, DAVID L;ZUNT, JOSEPH RAYMOND (cont...\n",
      "Name: pi_names, dtype: object\n",
      "\n",
      "\n",
      "After: \n",
      "0                                      BAR-SAGI, DAFNA\n",
      "1                                      BAR-SAGI, DAFNA\n",
      "2    ELLNER, JERROLD J. (contact);JOLOBA, MOSES LUT...\n",
      "3    DESHPANDE, SMITA N;MANSOUR, HADER A.;NIMGAONKA...\n",
      "4    TIRSCHWELL, DAVID L;ZUNT, JOSEPH RAYMOND (cont...\n",
      "Name: pi_names, dtype: object\n"
     ]
    }
   ],
   "source": [
    "# Each pi_name ends with a semi-colon\n",
    "# We'll need to remove these in order to merge with the FCOI names\n",
    "print \"Before: \"\n",
    "print nih_df['pi_names'].head()\n",
    "\n",
    "nih_df['pi_names'] = nih_df['pi_names'].map(lambda x: str(x)[:-1])\n",
    "\n",
    "print \"\\n\"\n",
    "print \"After: \"\n",
    "print nih_df['pi_names'].head()"
   ]
  },
  {
   "cell_type": "code",
   "execution_count": 37,
   "metadata": {
    "collapsed": false
   },
   "outputs": [
    {
     "data": {
      "text/html": [
       "<div style=\"max-height:1000px;max-width:1500px;overflow:auto;\">\n",
       "<table border=\"1\" class=\"dataframe\">\n",
       "  <thead>\n",
       "    <tr style=\"text-align: right;\">\n",
       "      <th></th>\n",
       "      <th>total-grants</th>\n",
       "    </tr>\n",
       "  </thead>\n",
       "  <tbody>\n",
       "    <tr>\n",
       "      <th>JOHNS HOPKINS UNIVERSITY</th>\n",
       "      <td> 6705</td>\n",
       "    </tr>\n",
       "    <tr>\n",
       "      <th>UNIVERSITY OF CALIFORNIA, SAN FRANCISCO</th>\n",
       "      <td> 6289</td>\n",
       "    </tr>\n",
       "    <tr>\n",
       "      <th>UNIVERSITY OF PENNSYLVANIA</th>\n",
       "      <td> 5807</td>\n",
       "    </tr>\n",
       "    <tr>\n",
       "      <th>UNIVERSITY OF MICHIGAN</th>\n",
       "      <td> 5336</td>\n",
       "    </tr>\n",
       "  </tbody>\n",
       "</table>\n",
       "</div>"
      ],
      "text/plain": [
       "                                         total-grants\n",
       "JOHNS HOPKINS UNIVERSITY                         6705\n",
       "UNIVERSITY OF CALIFORNIA, SAN FRANCISCO          6289\n",
       "UNIVERSITY OF PENNSYLVANIA                       5807\n",
       "UNIVERSITY OF MICHIGAN                           5336"
      ]
     },
     "execution_count": 37,
     "metadata": {},
     "output_type": "execute_result"
    }
   ],
   "source": [
    "# Count of grants per institution\n",
    "nih_org_df.head(4)"
   ]
  },
  {
   "cell_type": "code",
   "execution_count": 38,
   "metadata": {
    "collapsed": true
   },
   "outputs": [],
   "source": [
    "nih_person_series = nih_df['pi_names'].value_counts()\n",
    "nih_person_df = pandas.DataFrame(nih_person_series, columns=['total-grants'])"
   ]
  },
  {
   "cell_type": "code",
   "execution_count": 39,
   "metadata": {
    "collapsed": false
   },
   "outputs": [
    {
     "data": {
      "text/html": [
       "<div style=\"max-height:1000px;max-width:1500px;overflow:auto;\">\n",
       "<table border=\"1\" class=\"dataframe\">\n",
       "  <thead>\n",
       "    <tr style=\"text-align: right;\">\n",
       "      <th></th>\n",
       "      <th>total-grants</th>\n",
       "    </tr>\n",
       "  </thead>\n",
       "  <tbody>\n",
       "    <tr>\n",
       "      <th>, </th>\n",
       "      <td> 1555</td>\n",
       "    </tr>\n",
       "    <tr>\n",
       "      <th>HEIMBROOK, DAVID</th>\n",
       "      <td>  235</td>\n",
       "    </tr>\n",
       "    <tr>\n",
       "      <th>WEINER, GEORGE J</th>\n",
       "      <td>  154</td>\n",
       "    </tr>\n",
       "    <tr>\n",
       "      <th>CARBONE, MICHELE</th>\n",
       "      <td>  114</td>\n",
       "    </tr>\n",
       "  </tbody>\n",
       "</table>\n",
       "</div>"
      ],
      "text/plain": [
       "                  total-grants\n",
       ",                         1555\n",
       "HEIMBROOK, DAVID           235\n",
       "WEINER, GEORGE J           154\n",
       "CARBONE, MICHELE           114"
      ]
     },
     "execution_count": 39,
     "metadata": {},
     "output_type": "execute_result"
    }
   ],
   "source": [
    "# Count of grants per person\n",
    "nih_person_df.head(4)"
   ]
  },
  {
   "cell_type": "markdown",
   "metadata": {},
   "source": [
    "## Load the FCOI data into a pandas dataframe"
   ]
  },
  {
   "cell_type": "code",
   "execution_count": 40,
   "metadata": {
    "collapsed": false
   },
   "outputs": [],
   "source": [
    "!in2csv --sheet \"SQL Results\" \"ref/43736 Reardon with redactions.xls\" > csv/fcoi.csv"
   ]
  },
  {
   "cell_type": "code",
   "execution_count": 42,
   "metadata": {
    "collapsed": false
   },
   "outputs": [
    {
     "name": "stdout",
     "output_type": "stream",
     "text": [
      "  1: FCOI_ID\r\n",
      "  2: PROJECT NUMBER\r\n",
      "  3: PROJECT TITLE\r\n",
      "  4: CONTACT PD/PI NAME\r\n",
      "  5: FCOI INVESTIGATOR NAME\r\n",
      "  6: SUBMITTING INSTITUTION\r\n",
      "  7: FCOI REPORT TYPE\r\n",
      "  8: FCOI AMOUNT VALUE\r\n",
      "  9: FCOI REPORT STATUS\r\n"
     ]
    }
   ],
   "source": [
    "!csvcut -n csv/fcoi.csv #Get a numbered list of the columns"
   ]
  },
  {
   "cell_type": "code",
   "execution_count": 44,
   "metadata": {
    "collapsed": false
   },
   "outputs": [],
   "source": [
    "fcoi_df = pandas.read_csv(\"./csv/fcoi.csv\")\n",
    "fcoi_df.rename(columns = lambda x: x.replace(' ','_').lower(),  inplace=True)\n",
    "\n",
    "fcoi_org_series = fcoi_df['submitting_institution'].value_counts()\n",
    "fcoi_org_df = pandas.DataFrame(fcoi_org_series, columns=['total-fcoi-claims'])\n",
    "\n",
    "fcoi_person_series = fcoi_df['contact_pd/pi_name'].value_counts()\n",
    "fcoi_person_df = pandas.DataFrame(fcoi_person_series, columns=['totas-fcoi-claims'])"
   ]
  },
  {
   "cell_type": "code",
   "execution_count": 45,
   "metadata": {
    "collapsed": false
   },
   "outputs": [
    {
     "data": {
      "text/html": [
       "<div style=\"max-height:1000px;max-width:1500px;overflow:auto;\">\n",
       "<table border=\"1\" class=\"dataframe\">\n",
       "  <thead>\n",
       "    <tr style=\"text-align: right;\">\n",
       "      <th></th>\n",
       "      <th>total-fcoi-claims</th>\n",
       "    </tr>\n",
       "  </thead>\n",
       "  <tbody>\n",
       "    <tr>\n",
       "      <th>YALE UNIVERSITY</th>\n",
       "      <td> 123</td>\n",
       "    </tr>\n",
       "    <tr>\n",
       "      <th>UNIVERSITY OF WISCONSIN-MADISON</th>\n",
       "      <td> 106</td>\n",
       "    </tr>\n",
       "    <tr>\n",
       "      <th>UNIV OF NORTH CAROLINA CHAPEL HILL</th>\n",
       "      <td>  88</td>\n",
       "    </tr>\n",
       "    <tr>\n",
       "      <th>MASSACHUSETTS GENERAL HOSPITAL</th>\n",
       "      <td>  86</td>\n",
       "    </tr>\n",
       "  </tbody>\n",
       "</table>\n",
       "</div>"
      ],
      "text/plain": [
       "                                    total-fcoi-claims\n",
       "YALE UNIVERSITY                                   123\n",
       "UNIVERSITY OF WISCONSIN-MADISON                   106\n",
       "UNIV OF NORTH CAROLINA CHAPEL HILL                 88\n",
       "MASSACHUSETTS GENERAL HOSPITAL                     86"
      ]
     },
     "execution_count": 45,
     "metadata": {},
     "output_type": "execute_result"
    }
   ],
   "source": [
    "# Count of total fcoi claims per institution\n",
    "fcoi_org_df.head(4)"
   ]
  },
  {
   "cell_type": "code",
   "execution_count": 46,
   "metadata": {
    "collapsed": false
   },
   "outputs": [
    {
     "data": {
      "text/html": [
       "<div style=\"max-height:1000px;max-width:1500px;overflow:auto;\">\n",
       "<table border=\"1\" class=\"dataframe\">\n",
       "  <thead>\n",
       "    <tr style=\"text-align: right;\">\n",
       "      <th></th>\n",
       "      <th>totas-fcoi-claims</th>\n",
       "    </tr>\n",
       "  </thead>\n",
       "  <tbody>\n",
       "    <tr>\n",
       "      <th>SCOTT, INGRID U</th>\n",
       "      <td> 52</td>\n",
       "    </tr>\n",
       "    <tr>\n",
       "      <th>SHERWIN, ROBERT Stanley</th>\n",
       "      <td> 46</td>\n",
       "    </tr>\n",
       "    <tr>\n",
       "      <th>LACHIN, JOHN M</th>\n",
       "      <td> 22</td>\n",
       "    </tr>\n",
       "    <tr>\n",
       "      <th>Diller, Kenneth R.</th>\n",
       "      <td> 20</td>\n",
       "    </tr>\n",
       "  </tbody>\n",
       "</table>\n",
       "</div>"
      ],
      "text/plain": [
       "                         totas-fcoi-claims\n",
       "SCOTT, INGRID U                         52\n",
       "SHERWIN, ROBERT Stanley                 46\n",
       "LACHIN, JOHN M                          22\n",
       "Diller, Kenneth R.                      20"
      ]
     },
     "execution_count": 46,
     "metadata": {},
     "output_type": "execute_result"
    }
   ],
   "source": [
    "# Count of total fcoi claims per person\n",
    "fcoi_person_df.head(4)"
   ]
  },
  {
   "cell_type": "markdown",
   "metadata": {},
   "source": [
    "## Join the NIH and FCOI data frames for comparison"
   ]
  },
  {
   "cell_type": "code",
   "execution_count": 47,
   "metadata": {
    "collapsed": false
   },
   "outputs": [
    {
     "data": {
      "text/html": [
       "<div style=\"max-height:1000px;max-width:1500px;overflow:auto;\">\n",
       "<table border=\"1\" class=\"dataframe\">\n",
       "  <thead>\n",
       "    <tr style=\"text-align: right;\">\n",
       "      <th></th>\n",
       "      <th>total-fcoi-claims</th>\n",
       "      <th>total-grants</th>\n",
       "    </tr>\n",
       "  </thead>\n",
       "  <tbody>\n",
       "    <tr>\n",
       "      <th>JOHNS HOPKINS UNIVERSITY</th>\n",
       "      <td> 66</td>\n",
       "      <td> 6705</td>\n",
       "    </tr>\n",
       "    <tr>\n",
       "      <th>UNIVERSITY OF CALIFORNIA, SAN FRANCISCO</th>\n",
       "      <td>  2</td>\n",
       "      <td> 6289</td>\n",
       "    </tr>\n",
       "    <tr>\n",
       "      <th>UNIVERSITY OF PENNSYLVANIA</th>\n",
       "      <td> 65</td>\n",
       "      <td> 5807</td>\n",
       "    </tr>\n",
       "    <tr>\n",
       "      <th>UNIVERSITY OF MICHIGAN</th>\n",
       "      <td> 39</td>\n",
       "      <td> 5336</td>\n",
       "    </tr>\n",
       "    <tr>\n",
       "      <th>UNIVERSITY OF WASHINGTON</th>\n",
       "      <td> 58</td>\n",
       "      <td> 5146</td>\n",
       "    </tr>\n",
       "  </tbody>\n",
       "</table>\n",
       "</div>"
      ],
      "text/plain": [
       "                                         total-fcoi-claims  total-grants\n",
       "JOHNS HOPKINS UNIVERSITY                                66          6705\n",
       "UNIVERSITY OF CALIFORNIA, SAN FRANCISCO                  2          6289\n",
       "UNIVERSITY OF PENNSYLVANIA                              65          5807\n",
       "UNIVERSITY OF MICHIGAN                                  39          5336\n",
       "UNIVERSITY OF WASHINGTON                                58          5146"
      ]
     },
     "execution_count": 47,
     "metadata": {},
     "output_type": "execute_result"
    }
   ],
   "source": [
    "# pd.merge(left_frame, right_frame, on='key', how='inner')\n",
    "org_merge = pandas.merge(fcoi_org_df, nih_org_df, left_index=True, right_index=True, how='inner')\n",
    "\n",
    "org_merge.to_csv(\"./csv/institution_fcoi_nih.csv\")\n",
    "\n",
    "org_merge.head()"
   ]
  },
  {
   "cell_type": "code",
   "execution_count": 49,
   "metadata": {
    "collapsed": false
   },
   "outputs": [
    {
     "data": {
      "text/html": [
       "<div style=\"max-height:1000px;max-width:1500px;overflow:auto;\">\n",
       "<table border=\"1\" class=\"dataframe\">\n",
       "  <thead>\n",
       "    <tr style=\"text-align: right;\">\n",
       "      <th></th>\n",
       "      <th>totas-fcoi-claims</th>\n",
       "      <th>total-grants</th>\n",
       "    </tr>\n",
       "  </thead>\n",
       "  <tbody>\n",
       "    <tr>\n",
       "      <th>, </th>\n",
       "      <td>NaN</td>\n",
       "      <td> 1555</td>\n",
       "    </tr>\n",
       "    <tr>\n",
       "      <th>AAGAARD-TILLERY, KJERSTI MARIE</th>\n",
       "      <td>NaN</td>\n",
       "      <td>    7</td>\n",
       "    </tr>\n",
       "    <tr>\n",
       "      <th>AAKALU, VINAY</th>\n",
       "      <td>NaN</td>\n",
       "      <td>    1</td>\n",
       "    </tr>\n",
       "    <tr>\n",
       "      <th>AALBERSBERG, WILLIAM</th>\n",
       "      <td>NaN</td>\n",
       "      <td>    1</td>\n",
       "    </tr>\n",
       "    <tr>\n",
       "      <th>AALBERTS, DANIEL PAUL</th>\n",
       "      <td>NaN</td>\n",
       "      <td>    1</td>\n",
       "    </tr>\n",
       "  </tbody>\n",
       "</table>\n",
       "</div>"
      ],
      "text/plain": [
       "                                totas-fcoi-claims  total-grants\n",
       ",                                             NaN          1555\n",
       "AAGAARD-TILLERY, KJERSTI MARIE                NaN             7\n",
       "AAKALU, VINAY                                 NaN             1\n",
       "AALBERSBERG, WILLIAM                          NaN             1\n",
       "AALBERTS, DANIEL PAUL                         NaN             1"
      ]
     },
     "execution_count": 49,
     "metadata": {},
     "output_type": "execute_result"
    }
   ],
   "source": [
    "# Full outer join as there are lots of missmatches\n",
    "person_merge = pandas.merge(fcoi_person_df, nih_person_df, left_index=True, right_index=True, how='outer')\n",
    "\n",
    "person_merge.to_csv(\"./csv/person_fcoi_nih.csv\")\n",
    "\n",
    "person_merge.head()"
   ]
  },
  {
   "cell_type": "markdown",
   "metadata": {},
   "source": [
    "##Sum up the types of claims per institution\n"
   ]
  },
  {
   "cell_type": "code",
   "execution_count": 54,
   "metadata": {
    "collapsed": false
   },
   "outputs": [
    {
     "data": {
      "text/plain": [
       "'Cannot add up types of claims per institution because the FCOI SFI NATURE DESCRIPTION column is missing'"
      ]
     },
     "execution_count": 54,
     "metadata": {},
     "output_type": "execute_result"
    }
   ],
   "source": [
    "'''Cannot add up types of claims per institution because the FCOI SFI NATURE DESCRIPTION column is missing'''\n",
    "# fcoi_type_of_claim_list = fcoi_df['fcoi_sfi_nature_description'].unique().tolist()\n",
    "\n",
    "# len(fcoi_type_of_claim_list)\n"
   ]
  }
 ],
 "metadata": {
  "kernelspec": {
   "display_name": "Python 2",
   "language": "python",
   "name": "python2"
  },
  "language_info": {
   "codemirror_mode": {
    "name": "ipython",
    "version": 2
   },
   "file_extension": ".py",
   "mimetype": "text/x-python",
   "name": "python",
   "nbconvert_exporter": "python",
   "pygments_lexer": "ipython2",
   "version": "2.7.9"
  }
 },
 "nbformat": 4,
 "nbformat_minor": 0
}
