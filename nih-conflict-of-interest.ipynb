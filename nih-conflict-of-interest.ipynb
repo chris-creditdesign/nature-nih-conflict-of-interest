{
 "cells": [
  {
   "cell_type": "markdown",
   "metadata": {},
   "source": [
    "# Nature NIH conflict of interest investigation\n",
    "\n",
    "Working process to determine the percentage of grants given to each institution that have a FCOI (financial conflict of interest) investigation associated with them. \n",
    "\n",
    "`43736 Reardon with redactions.xls`: NIH FOI document listing all conflict of interest reports that investigators filed in 2012 and 2013\n",
    "\n",
    "**NIH Research Portfolio Online Reporting Tools (RePORT)** - A repository of NIH-funded research projects and access publications and patents resulting from that funding.\n",
    "\n",
    "**ExPORTER Data Catalog** [http://exporter.nih.gov/ExPORTER_Catalog.aspx](http://exporter.nih.gov/ExPORTER_Catalog.aspx) - makes downloadable versions of the data accessed through the RePORT Expenditures and Results (RePORTER) interface available to the public. "
   ]
  },
  {
   "cell_type": "markdown",
   "metadata": {},
   "source": [
    "## Download and unzip NIH Reporter files relating to January 2013 to May 2015"
   ]
  },
  {
   "cell_type": "markdown",
   "metadata": {},
   "source": [
    "Download the relevant files"
   ]
  },
  {
   "cell_type": "code",
   "execution_count": 1,
   "metadata": {
    "collapsed": false,
    "scrolled": true
   },
   "outputs": [
    {
     "name": "stdout",
     "output_type": "stream",
     "text": [
      "  % Total    % Received % Xferd  Average Speed   Time    Time     Time  Current\n",
      "                                 Dload  Upload   Total   Spent    Left  Speed\n",
      "100  235k  100  235k    0     0   365k      0 --:--:-- --:--:-- --:--:--  365k\n",
      "  % Total    % Received % Xferd  Average Speed   Time    Time     Time  Current\n",
      "                                 Dload  Upload   Total   Spent    Left  Speed\n",
      "100  513k  100  513k    0     0   240k      0  0:00:02  0:00:02 --:--:--  240k\n",
      "  % Total    % Received % Xferd  Average Speed   Time    Time     Time  Current\n",
      "                                 Dload  Upload   Total   Spent    Left  Speed\n",
      "100  376k  100  376k    0     0   204k      0  0:00:01  0:00:01 --:--:--  203k\n",
      "  % Total    % Received % Xferd  Average Speed   Time    Time     Time  Current\n",
      "                                 Dload  Upload   Total   Spent    Left  Speed\n",
      "100 2973k  100 2973k    0     0   480k      0  0:00:06  0:00:06 --:--:--  554k\n",
      "  % Total    % Received % Xferd  Average Speed   Time    Time     Time  Current\n",
      "                                 Dload  Upload   Total   Spent    Left  Speed\n",
      "100  172k  100  172k    0     0   361k      0 --:--:-- --:--:-- --:--:--  362k\n",
      "  % Total    % Received % Xferd  Average Speed   Time    Time     Time  Current\n",
      "                                 Dload  Upload   Total   Spent    Left  Speed\n",
      "100  377k  100  377k    0     0   391k      0 --:--:-- --:--:-- --:--:--  391k\n",
      "  % Total    % Received % Xferd  Average Speed   Time    Time     Time  Current\n",
      "                                 Dload  Upload   Total   Spent    Left  Speed\n",
      "100  340k  100  340k    0     0   587k      0 --:--:-- --:--:-- --:--:--  587k\n",
      "  % Total    % Received % Xferd  Average Speed   Time    Time     Time  Current\n",
      "                                 Dload  Upload   Total   Spent    Left  Speed\n",
      "100 3619k  100 3619k    0     0   618k      0  0:00:05  0:00:05 --:--:--  656k\n",
      "  % Total    % Received % Xferd  Average Speed   Time    Time     Time  Current\n",
      "                                 Dload  Upload   Total   Spent    Left  Speed\n",
      "100  126k  100  126k    0     0   361k      0 --:--:-- --:--:-- --:--:--  361k\n",
      "  % Total    % Received % Xferd  Average Speed   Time    Time     Time  Current\n",
      "                                 Dload  Upload   Total   Spent    Left  Speed\n",
      "100  223k  100  223k    0     0   439k      0 --:--:-- --:--:-- --:--:--  439k\n",
      "  % Total    % Received % Xferd  Average Speed   Time    Time     Time  Current\n",
      "                                 Dload  Upload   Total   Spent    Left  Speed\n",
      "100  195k  100  195k    0     0   346k      0 --:--:-- --:--:-- --:--:--  346k\n",
      "  % Total    % Received % Xferd  Average Speed   Time    Time     Time  Current\n",
      "                                 Dload  Upload   Total   Spent    Left  Speed\n",
      "100 1823k  100 1823k    0     0   402k      0  0:00:04  0:00:04 --:--:--  402k\n",
      "  % Total    % Received % Xferd  Average Speed   Time    Time     Time  Current\n",
      "                                 Dload  Upload   Total   Spent    Left  Speed\n",
      "100  129k  100  129k    0     0   377k      0 --:--:-- --:--:-- --:--:--  376k\n",
      "  % Total    % Received % Xferd  Average Speed   Time    Time     Time  Current\n",
      "                                 Dload  Upload   Total   Spent    Left  Speed\n",
      "100  216k  100  216k    0     0   531k      0 --:--:-- --:--:-- --:--:--  532k\n",
      "  % Total    % Received % Xferd  Average Speed   Time    Time     Time  Current\n",
      "                                 Dload  Upload   Total   Spent    Left  Speed\n",
      "100  228k  100  228k    0     0   477k      0 --:--:-- --:--:-- --:--:--  476k\n",
      "  % Total    % Received % Xferd  Average Speed   Time    Time     Time  Current\n",
      "                                 Dload  Upload   Total   Spent    Left  Speed\n",
      "100 1554k  100 1554k    0     0   667k      0  0:00:02  0:00:02 --:--:--  667k\n",
      "  % Total    % Received % Xferd  Average Speed   Time    Time     Time  Current\n",
      "                                 Dload  Upload   Total   Spent    Left  Speed\n",
      "100  115k  100  115k    0     0   357k      0 --:--:-- --:--:-- --:--:--  356k\n",
      "  % Total    % Received % Xferd  Average Speed   Time    Time     Time  Current\n",
      "                                 Dload  Upload   Total   Spent    Left  Speed\n",
      "100  130k  100  130k    0     0   401k      0 --:--:-- --:--:-- --:--:--  402k\n",
      "  % Total    % Received % Xferd  Average Speed   Time    Time     Time  Current\n",
      "                                 Dload  Upload   Total   Spent    Left  Speed\n",
      "100  183k  100  183k    0     0   245k      0 --:--:-- --:--:-- --:--:--  244k\n",
      "  % Total    % Received % Xferd  Average Speed   Time    Time     Time  Current\n",
      "                                 Dload  Upload   Total   Spent    Left  Speed\n",
      "100  118k  100  118k    0     0   361k      0 --:--:-- --:--:-- --:--:--  362k\n",
      "  % Total    % Received % Xferd  Average Speed   Time    Time     Time  Current\n",
      "                                 Dload  Upload   Total   Spent    Left  Speed\n",
      "100 1245k  100 1245k    0     0   696k      0  0:00:01  0:00:01 --:--:--  697k\n",
      "  % Total    % Received % Xferd  Average Speed   Time    Time     Time  Current\n",
      "                                 Dload  Upload   Total   Spent    Left  Speed\n",
      "100  110k  100  110k    0     0   311k      0 --:--:-- --:--:-- --:--:--  310k\n",
      "  % Total    % Received % Xferd  Average Speed   Time    Time     Time  Current\n",
      "                                 Dload  Upload   Total   Spent    Left  Speed\n",
      "100  157k  100  157k    0     0   392k      0 --:--:-- --:--:-- --:--:--  393k\n",
      "  % Total    % Received % Xferd  Average Speed   Time    Time     Time  Current\n",
      "                                 Dload  Upload   Total   Spent    Left  Speed\n",
      "100  161k  100  161k    0     0   278k      0 --:--:-- --:--:-- --:--:--  278k\n",
      "  % Total    % Received % Xferd  Average Speed   Time    Time     Time  Current\n",
      "                                 Dload  Upload   Total   Spent    Left  Speed\n",
      "100 1339k  100 1339k    0     0   408k      0  0:00:03  0:00:03 --:--:--  408k\n",
      "  % Total    % Received % Xferd  Average Speed   Time    Time     Time  Current\n",
      "                                 Dload  Upload   Total   Spent    Left  Speed\n",
      "100 58047  100 58047    0     0   214k      0 --:--:-- --:--:-- --:--:--  214k\n",
      "  % Total    % Received % Xferd  Average Speed   Time    Time     Time  Current\n",
      "                                 Dload  Upload   Total   Spent    Left  Speed\n",
      "100 70364  100 70364    0     0   279k      0 --:--:-- --:--:-- --:--:--  280k\n",
      "  % Total    % Received % Xferd  Average Speed   Time    Time     Time  Current\n",
      "                                 Dload  Upload   Total   Spent    Left  Speed\n",
      "100 96713  100 96713    0     0   167k      0 --:--:-- --:--:-- --:--:--  167k\n",
      "  % Total    % Received % Xferd  Average Speed   Time    Time     Time  Current\n",
      "                                 Dload  Upload   Total   Spent    Left  Speed\n",
      "100  251k  100  251k    0     0   306k      0 --:--:-- --:--:-- --:--:--  306k\n",
      "  % Total    % Received % Xferd  Average Speed   Time    Time     Time  Current\n",
      "                                 Dload  Upload   Total   Spent    Left  Speed\n",
      "100 40.6M  100 40.6M    0     0   630k      0  0:01:06  0:01:06 --:--:--  703k\n",
      "  % Total    % Received % Xferd  Average Speed   Time    Time     Time  Current\n",
      "                                 Dload  Upload   Total   Spent    Left  Speed\n",
      "100 40.2M  100 40.2M    0     0   647k      0  0:01:03  0:01:03 --:--:--  658k\n"
     ]
    }
   ],
   "source": [
    "!curl -O http://exporter.nih.gov/CSVs/final/RePORTER_PRJ_C_FY2015_029.zip\n",
    "!curl -O http://exporter.nih.gov/CSVs/final/RePORTER_PRJ_C_FY2015_028.zip\n",
    "!curl -O http://exporter.nih.gov/CSVs/final/RePORTER_PRJ_C_FY2015_027.zip\n",
    "!curl -O http://exporter.nih.gov/CSVs/final/RePORTER_PRJ_C_FY2015_026.zip\n",
    "!curl -O http://exporter.nih.gov/CSVs/final/RePORTER_PRJ_C_FY2015_025.zip\n",
    "!curl -O http://exporter.nih.gov/CSVs/final/RePORTER_PRJ_C_FY2015_024.zip\n",
    "!curl -O http://exporter.nih.gov/CSVs/final/RePORTER_PRJ_C_FY2015_023.zip\n",
    "!curl -O http://exporter.nih.gov/CSVs/final/RePORTER_PRJ_C_FY2015_022.zip\n",
    "!curl -O http://exporter.nih.gov/CSVs/final/RePORTER_PRJ_C_FY2015_021.zip\n",
    "!curl -O http://exporter.nih.gov/CSVs/final/RePORTER_PRJ_C_FY2015_020.zip\n",
    "!curl -O http://exporter.nih.gov/CSVs/final/RePORTER_PRJ_C_FY2015_019.zip\n",
    "!curl -O http://exporter.nih.gov/CSVs/final/RePORTER_PRJ_C_FY2015_018.zip\n",
    "!curl -O http://exporter.nih.gov/CSVs/final/RePORTER_PRJ_C_FY2015_017.zip\n",
    "!curl -O http://exporter.nih.gov/CSVs/final/RePORTER_PRJ_C_FY2015_016.zip\n",
    "!curl -O http://exporter.nih.gov/CSVs/final/RePORTER_PRJ_C_FY2015_015.zip\n",
    "!curl -O http://exporter.nih.gov/CSVs/final/RePORTER_PRJ_C_FY2015_014.zip\n",
    "!curl -O http://exporter.nih.gov/CSVs/final/RePORTER_PRJ_C_FY2015_013.zip\n",
    "!curl -O http://exporter.nih.gov/CSVs/final/RePORTER_PRJ_C_FY2015_012.zip\n",
    "!curl -O http://exporter.nih.gov/CSVs/final/RePORTER_PRJ_C_FY2015_011.zip\n",
    "!curl -O http://exporter.nih.gov/CSVs/final/RePORTER_PRJ_C_FY2015_010.zip\n",
    "!curl -O http://exporter.nih.gov/CSVs/final/RePORTER_PRJ_C_FY2015_009.zip\n",
    "!curl -O http://exporter.nih.gov/CSVs/final/RePORTER_PRJ_C_FY2015_008.zip\n",
    "!curl -O http://exporter.nih.gov/CSVs/final/RePORTER_PRJ_C_FY2015_007.zip\n",
    "!curl -O http://exporter.nih.gov/CSVs/final/RePORTER_PRJ_C_FY2015_006.zip\n",
    "!curl -O http://exporter.nih.gov/CSVs/final/RePORTER_PRJ_C_FY2015_005.zip\n",
    "!curl -O http://exporter.nih.gov/CSVs/final/RePORTER_PRJ_C_FY2015_004.zip\n",
    "!curl -O http://exporter.nih.gov/CSVs/final/RePORTER_PRJ_C_FY2015_003.zip\n",
    "!curl -O http://exporter.nih.gov/CSVs/final/RePORTER_PRJ_C_FY2015_002.zip\n",
    "!curl -O http://exporter.nih.gov/CSVs/final/RePORTER_PRJ_C_FY2015_001.zip\n",
    "!curl -O http://exporter.nih.gov/CSVs/final/RePORTER_PRJ_C_FY2014.zip\n",
    "!curl -O http://exporter.nih.gov/CSVs/final/RePORTER_PRJ_C_FY2013.zip"
   ]
  },
  {
   "cell_type": "markdown",
   "metadata": {},
   "source": [
    "Unzip the downloaded files"
   ]
  },
  {
   "cell_type": "code",
   "execution_count": 2,
   "metadata": {
    "collapsed": false
   },
   "outputs": [
    {
     "name": "stdout",
     "output_type": "stream",
     "text": [
      "Archive:  RePORTER_PRJ_C_FY2013.zip\n",
      "  inflating: RePORTER_PRJ_C_FY2013.csv  \n",
      "Archive:  RePORTER_PRJ_C_FY2014.zip\n",
      "  inflating: RePORTER_PRJ_C_FY2014.csv  \n",
      "Archive:  RePORTER_PRJ_C_FY2015_001.zip\n",
      "  inflating: RePORTER_PRJ_C_FY2015_001.csv  \n",
      "Archive:  RePORTER_PRJ_C_FY2015_002.zip\n",
      "  inflating: RePORTER_PRJ_C_FY2015_002.csv  \n",
      "Archive:  RePORTER_PRJ_C_FY2015_003.zip\n",
      "  inflating: RePORTER_PRJ_C_FY2015_003.csv  \n",
      "Archive:  RePORTER_PRJ_C_FY2015_004.zip\n",
      "  inflating: RePORTER_PRJ_C_FY2015_004.csv  \n",
      "Archive:  RePORTER_PRJ_C_FY2015_005.zip\n",
      "  inflating: RePORTER_PRJ_C_FY2015_005.csv  \n",
      "Archive:  RePORTER_PRJ_C_FY2015_006.zip\n",
      "  inflating: RePORTER_PRJ_C_FY2015_006.csv  \n",
      "Archive:  RePORTER_PRJ_C_FY2015_007.zip\n",
      "  inflating: RePORTER_PRJ_C_FY2015_007.csv  \n",
      "Archive:  RePORTER_PRJ_C_FY2015_008.zip\n",
      "  inflating: RePORTER_PRJ_C_FY2015_008.csv  \n",
      "Archive:  RePORTER_PRJ_C_FY2015_009.zip\n",
      "  inflating: RePORTER_PRJ_C_FY2015_009.csv  \n",
      "Archive:  RePORTER_PRJ_C_FY2015_010.zip\n",
      "  inflating: RePORTER_PRJ_C_FY2015_010.csv  \n",
      "Archive:  RePORTER_PRJ_C_FY2015_011.zip\n",
      "  inflating: RePORTER_PRJ_C_FY2015_011.csv  \n",
      "Archive:  RePORTER_PRJ_C_FY2015_012.zip\n",
      "  inflating: RePORTER_PRJ_C_FY2015_012.csv  \n",
      "Archive:  RePORTER_PRJ_C_FY2015_013.zip\n",
      "  inflating: RePORTER_PRJ_C_FY2015_013.csv  \n",
      "Archive:  RePORTER_PRJ_C_FY2015_014.zip\n",
      "  inflating: RePORTER_PRJ_C_FY2015_014.csv  \n",
      "Archive:  RePORTER_PRJ_C_FY2015_015.zip\n",
      "  inflating: RePORTER_PRJ_C_FY2015_015.csv  \n",
      "Archive:  RePORTER_PRJ_C_FY2015_016.zip\n",
      "  inflating: RePORTER_PRJ_C_FY2015_016.csv  \n",
      "Archive:  RePORTER_PRJ_C_FY2015_017.zip\n",
      "  inflating: RePORTER_PRJ_C_FY2015_017.csv  \n",
      "Archive:  RePORTER_PRJ_C_FY2015_018.zip\n",
      "  inflating: RePORTER_PRJ_C_FY2015_018.csv  \n",
      "Archive:  RePORTER_PRJ_C_FY2015_019.zip\n",
      "  inflating: RePORTER_PRJ_C_FY2015_019.csv  \n",
      "Archive:  RePORTER_PRJ_C_FY2015_020.zip\n",
      "  inflating: RePORTER_PRJ_C_FY2015_020.csv  \n",
      "Archive:  RePORTER_PRJ_C_FY2015_021.zip\n",
      "  inflating: RePORTER_PRJ_C_FY2015_021.csv  \n",
      "Archive:  RePORTER_PRJ_C_FY2015_022.zip\n",
      "  inflating: RePORTER_PRJ_C_FY2015_022.csv  \n",
      "Archive:  RePORTER_PRJ_C_FY2015_023.zip\n",
      "  inflating: RePORTER_PRJ_C_FY2015_023.csv  \n",
      "Archive:  RePORTER_PRJ_C_FY2015_024.zip\n",
      "  inflating: RePORTER_PRJ_C_FY2015_024.csv  \n",
      "Archive:  RePORTER_PRJ_C_FY2015_025.zip\n",
      "  inflating: RePORTER_PRJ_C_FY2015_025.csv  \n",
      "Archive:  RePORTER_PRJ_C_FY2015_026.zip\n",
      "  inflating: RePORTER_PRJ_C_FY2015_026.csv  \n",
      "Archive:  RePORTER_PRJ_C_FY2015_027.zip\n",
      "  inflating: RePORTER_PRJ_C_FY2015_027.csv  \n",
      "Archive:  RePORTER_PRJ_C_FY2015_028.zip\n",
      "  inflating: RePORTER_PRJ_C_FY2015_028.csv  \n",
      "Archive:  RePORTER_PRJ_C_FY2015_029.zip\n",
      "  inflating: RePORTER_PRJ_C_FY2015_029.csv  \n"
     ]
    }
   ],
   "source": [
    "!for f in *.zip; do unzip \"${f}\"; done;"
   ]
  },
  {
   "cell_type": "markdown",
   "metadata": {},
   "source": [
    "Delete the archives, leaving just the csv files."
   ]
  },
  {
   "cell_type": "code",
   "execution_count": 3,
   "metadata": {
    "collapsed": false
   },
   "outputs": [],
   "source": [
    "! for f in *.zip; do rm \"${f}\"; done;"
   ]
  },
  {
   "cell_type": "markdown",
   "metadata": {
    "collapsed": false
   },
   "source": [
    "We should now have 31 CSV files."
   ]
  },
  {
   "cell_type": "markdown",
   "metadata": {
    "collapsed": true
   },
   "source": [
    "## Clean and combine the NIH reporter documents"
   ]
  },
  {
   "cell_type": "markdown",
   "metadata": {},
   "source": [
    "Convert the CSV files from `iso-8859-1` to `utf-8`"
   ]
  },
  {
   "cell_type": "code",
   "execution_count": 2,
   "metadata": {
    "collapsed": false
   },
   "outputs": [],
   "source": [
    "! for f in *.csv; do in2csv -e iso-8859-1 -f csv \"${f}\" > temp && mv temp \"${f}\"; done;"
   ]
  },
  {
   "cell_type": "markdown",
   "metadata": {},
   "source": [
    "Combine all of the files into one CSV file:"
   ]
  },
  {
   "cell_type": "code",
   "execution_count": 3,
   "metadata": {
    "collapsed": false
   },
   "outputs": [],
   "source": [
    "!csvstack RePORTER_PRJ_C_FY2015_029.csv RePORTER_PRJ_C_FY2015_028.csv RePORTER_PRJ_C_FY2015_027.csv RePORTER_PRJ_C_FY2015_026.csv RePORTER_PRJ_C_FY2015_025.csv RePORTER_PRJ_C_FY2015_024.csv RePORTER_PRJ_C_FY2015_023.csv RePORTER_PRJ_C_FY2015_022.csv RePORTER_PRJ_C_FY2015_021.csv RePORTER_PRJ_C_FY2015_020.csv RePORTER_PRJ_C_FY2015_019.csv RePORTER_PRJ_C_FY2015_018.csv RePORTER_PRJ_C_FY2015_017.csv RePORTER_PRJ_C_FY2015_016.csv RePORTER_PRJ_C_FY2015_015.csv RePORTER_PRJ_C_FY2015_014.csv RePORTER_PRJ_C_FY2015_013.csv RePORTER_PRJ_C_FY2015_012.csv RePORTER_PRJ_C_FY2015_011.csv RePORTER_PRJ_C_FY2015_010.csv RePORTER_PRJ_C_FY2015_009.csv RePORTER_PRJ_C_FY2015_008.csv RePORTER_PRJ_C_FY2015_007.csv RePORTER_PRJ_C_FY2015_006.csv RePORTER_PRJ_C_FY2015_005.csv RePORTER_PRJ_C_FY2015_004.csv RePORTER_PRJ_C_FY2015_003.csv RePORTER_PRJ_C_FY2015_002.csv RePORTER_PRJ_C_FY2015_001.csv RePORTER_PRJ_C_FY2014.csv RePORTER_PRJ_C_FY2013.csv > csv/nih_all.csv"
   ]
  },
  {
   "cell_type": "markdown",
   "metadata": {},
   "source": [
    "Remove the individual csv files"
   ]
  },
  {
   "cell_type": "code",
   "execution_count": 5,
   "metadata": {
    "collapsed": true
   },
   "outputs": [],
   "source": [
    "! for f in *.csv; do rm \"${f}\"; done;"
   ]
  },
  {
   "cell_type": "markdown",
   "metadata": {},
   "source": [
    "Count the number of lines in the new file"
   ]
  },
  {
   "cell_type": "code",
   "execution_count": 4,
   "metadata": {
    "collapsed": false
   },
   "outputs": [
    {
     "name": "stdout",
     "output_type": "stream",
     "text": [
      "  180715 csv/nih_all.csv\r\n"
     ]
    }
   ],
   "source": [
    "!wc -l csv/nih_all.csv #Count the number of lines in the file"
   ]
  },
  {
   "cell_type": "markdown",
   "metadata": {},
   "source": [
    "Extract just the relevant columns from the four NIH documents into new documents and Convert `iso-8859-1` to `utf-8`."
   ]
  },
  {
   "cell_type": "code",
   "execution_count": 6,
   "metadata": {
    "collapsed": true
   },
   "outputs": [],
   "source": [
    "!csvcut -c 'APPLICATION_ID, PROJECT_TITLE, PI_NAMEs, ORG_NAME, FUNDING_MECHANISM, FY, PROJECT_START, PROJECT_END, TOTAL_COST' csv/nih_all.csv > temp && mv temp csv/nih_all.csv"
   ]
  },
  {
   "cell_type": "code",
   "execution_count": 7,
   "metadata": {
    "collapsed": false,
    "scrolled": false
   },
   "outputs": [
    {
     "name": "stdout",
     "output_type": "stream",
     "text": [
      "  1: APPLICATION_ID\r\n",
      "  2: PROJECT_TITLE\r\n",
      "  3: PI_NAMEs\r\n",
      "  4: ORG_NAME\r\n",
      "  5: FUNDING_MECHANISM\r\n",
      "  6: FY\r\n",
      "  7: PROJECT_START\r\n",
      "  8: PROJECT_END\r\n",
      "  9: TOTAL_COST\r\n"
     ]
    }
   ],
   "source": [
    "!csvcut -n csv/nih_all.csv #Get a numbered list of the columns"
   ]
  },
  {
   "cell_type": "markdown",
   "metadata": {},
   "source": [
    "The regulation does not apply to Phase I Small Business Innovation Research (SBIR) and Small Business Technology Transfer (STTR) applications/awards so remove all `SBIR-STTR` entires from the `FUNDING_MECHANISM` column."
   ]
  },
  {
   "cell_type": "code",
   "execution_count": 8,
   "metadata": {
    "collapsed": false
   },
   "outputs": [],
   "source": [
    "!csvgrep -c 5 -r \"SBIR-STTR\" -i csv/nih_all.csv > csv/temp.csv && mv csv/temp.csv csv/nih_all.csv"
   ]
  },
  {
   "cell_type": "markdown",
   "metadata": {},
   "source": [
    "Count the number of lines remaining in the file nb. should be less than previous count"
   ]
  },
  {
   "cell_type": "code",
   "execution_count": 9,
   "metadata": {
    "collapsed": false
   },
   "outputs": [
    {
     "name": "stdout",
     "output_type": "stream",
     "text": [
      "  176787 csv/nih_all.csv\r\n"
     ]
    }
   ],
   "source": [
    "!wc -l csv/nih_all.csv #Count the number of lines in the file"
   ]
  },
  {
   "cell_type": "markdown",
   "metadata": {},
   "source": [
    "## Begin examining the data in Python \n",
    "\n",
    "Load pandas, pandasql and csvkit"
   ]
  },
  {
   "cell_type": "code",
   "execution_count": 11,
   "metadata": {
    "collapsed": false
   },
   "outputs": [],
   "source": [
    "import pandas\n",
    "import pandasql\n",
    "import csvkit"
   ]
  },
  {
   "cell_type": "markdown",
   "metadata": {},
   "source": [
    "Load the combined NIH csv into a pandas dataframe"
   ]
  },
  {
   "cell_type": "code",
   "execution_count": 18,
   "metadata": {
    "collapsed": false,
    "scrolled": false
   },
   "outputs": [],
   "source": [
    "nih_df = pandas.read_csv(\"./csv/nih_all.csv\")\n",
    "nih_df.rename(columns = lambda x: x.replace(' ', '_').lower(), inplace=True)\n",
    "\n",
    "nih_org_series = nih_df['org_name'].value_counts()\n",
    "\n",
    "nih_org_df = pandas.DataFrame(nih_org_series, columns=['total-grants'])"
   ]
  },
  {
   "cell_type": "markdown",
   "metadata": {},
   "source": [
    "We now have a data frame with a total number of grants pre institution"
   ]
  },
  {
   "cell_type": "code",
   "execution_count": 19,
   "metadata": {
    "collapsed": false
   },
   "outputs": [
    {
     "data": {
      "text/html": [
       "<div>\n",
       "<table border=\"1\" class=\"dataframe\">\n",
       "  <thead>\n",
       "    <tr style=\"text-align: right;\">\n",
       "      <th></th>\n",
       "      <th>total-grants</th>\n",
       "    </tr>\n",
       "  </thead>\n",
       "  <tbody>\n",
       "    <tr>\n",
       "      <th>JOHNS HOPKINS UNIVERSITY</th>\n",
       "      <td>3828</td>\n",
       "    </tr>\n",
       "    <tr>\n",
       "      <th>UNIVERSITY OF CALIFORNIA, SAN FRANCISCO</th>\n",
       "      <td>3680</td>\n",
       "    </tr>\n",
       "    <tr>\n",
       "      <th>UNIVERSITY OF PENNSYLVANIA</th>\n",
       "      <td>3429</td>\n",
       "    </tr>\n",
       "    <tr>\n",
       "      <th>UNIVERSITY OF MICHIGAN</th>\n",
       "      <td>3046</td>\n",
       "    </tr>\n",
       "    <tr>\n",
       "      <th>UNIV OF NORTH CAROLINA CHAPEL HILL</th>\n",
       "      <td>2963</td>\n",
       "    </tr>\n",
       "  </tbody>\n",
       "</table>\n",
       "</div>"
      ],
      "text/plain": [
       "                                         total-grants\n",
       "JOHNS HOPKINS UNIVERSITY                         3828\n",
       "UNIVERSITY OF CALIFORNIA, SAN FRANCISCO          3680\n",
       "UNIVERSITY OF PENNSYLVANIA                       3429\n",
       "UNIVERSITY OF MICHIGAN                           3046\n",
       "UNIV OF NORTH CAROLINA CHAPEL HILL               2963"
      ]
     },
     "execution_count": 19,
     "metadata": {},
     "output_type": "execute_result"
    }
   ],
   "source": [
    "# Count of grants per institution\n",
    "nih_org_df.head()"
   ]
  },
  {
   "cell_type": "markdown",
   "metadata": {},
   "source": [
    "## Load the FCOI data into a pandas dataframe"
   ]
  },
  {
   "cell_type": "markdown",
   "metadata": {},
   "source": [
    "Load in the NIH fcoi data received via a freedomo of information request"
   ]
  },
  {
   "cell_type": "code",
   "execution_count": 20,
   "metadata": {
    "collapsed": false
   },
   "outputs": [],
   "source": [
    "!in2csv --sheet \"SQL Results\" \"ref/43736 Reardon with redactions.xls\" > csv/fcoi.csv"
   ]
  },
  {
   "cell_type": "code",
   "execution_count": 21,
   "metadata": {
    "collapsed": false
   },
   "outputs": [
    {
     "name": "stdout",
     "output_type": "stream",
     "text": [
      "  1: FCOI_ID\r\n",
      "  2: PROJECT NUMBER\r\n",
      "  3: PROJECT TITLE\r\n",
      "  4: CONTACT PD/PI NAME\r\n",
      "  5: FCOI INVESTIGATOR NAME\r\n",
      "  6: SUBMITTING INSTITUTION\r\n",
      "  7: FCOI REPORT TYPE\r\n",
      "  8: FCOI AMOUNT VALUE\r\n",
      "  9: FCOI REPORT STATUS\r\n"
     ]
    }
   ],
   "source": [
    "!csvcut -n csv/fcoi.csv #Get a numbered list of the columns"
   ]
  },
  {
   "cell_type": "code",
   "execution_count": 22,
   "metadata": {
    "collapsed": false
   },
   "outputs": [],
   "source": [
    "fcoi_df = pandas.read_csv(\"./csv/fcoi.csv\")\n",
    "fcoi_df.rename(columns = lambda x: x.replace(' ','_').lower(),  inplace=True)\n",
    "\n",
    "fcoi_org_series = fcoi_df['submitting_institution'].value_counts()\n",
    "fcoi_org_df = pandas.DataFrame(fcoi_org_series, columns=['total-fcoi-claims'])"
   ]
  },
  {
   "cell_type": "code",
   "execution_count": 23,
   "metadata": {
    "collapsed": false
   },
   "outputs": [
    {
     "data": {
      "text/html": [
       "<div>\n",
       "<table border=\"1\" class=\"dataframe\">\n",
       "  <thead>\n",
       "    <tr style=\"text-align: right;\">\n",
       "      <th></th>\n",
       "      <th>total-fcoi-claims</th>\n",
       "    </tr>\n",
       "  </thead>\n",
       "  <tbody>\n",
       "    <tr>\n",
       "      <th>YALE UNIVERSITY</th>\n",
       "      <td>123</td>\n",
       "    </tr>\n",
       "    <tr>\n",
       "      <th>UNIVERSITY OF WISCONSIN-MADISON</th>\n",
       "      <td>106</td>\n",
       "    </tr>\n",
       "    <tr>\n",
       "      <th>UNIV OF NORTH CAROLINA CHAPEL HILL</th>\n",
       "      <td>88</td>\n",
       "    </tr>\n",
       "    <tr>\n",
       "      <th>MASSACHUSETTS GENERAL HOSPITAL</th>\n",
       "      <td>86</td>\n",
       "    </tr>\n",
       "  </tbody>\n",
       "</table>\n",
       "</div>"
      ],
      "text/plain": [
       "                                    total-fcoi-claims\n",
       "YALE UNIVERSITY                                   123\n",
       "UNIVERSITY OF WISCONSIN-MADISON                   106\n",
       "UNIV OF NORTH CAROLINA CHAPEL HILL                 88\n",
       "MASSACHUSETTS GENERAL HOSPITAL                     86"
      ]
     },
     "execution_count": 23,
     "metadata": {},
     "output_type": "execute_result"
    }
   ],
   "source": [
    "# Count of total fcoi claims per institution\n",
    "fcoi_org_df.head(4)"
   ]
  },
  {
   "cell_type": "markdown",
   "metadata": {},
   "source": [
    "## Join the NIH and FCOI data frames for comparison"
   ]
  },
  {
   "cell_type": "markdown",
   "metadata": {},
   "source": [
    "Combine the total counts for number of grants and number of fcoi claims per institution and print this out to a csv flie called \"institution_fcoi_nih.csv\""
   ]
  },
  {
   "cell_type": "code",
   "execution_count": 24,
   "metadata": {
    "collapsed": false
   },
   "outputs": [
    {
     "data": {
      "text/html": [
       "<div>\n",
       "<table border=\"1\" class=\"dataframe\">\n",
       "  <thead>\n",
       "    <tr style=\"text-align: right;\">\n",
       "      <th></th>\n",
       "      <th>total-fcoi-claims</th>\n",
       "      <th>total-grants</th>\n",
       "    </tr>\n",
       "  </thead>\n",
       "  <tbody>\n",
       "    <tr>\n",
       "      <th>JOHNS HOPKINS UNIVERSITY</th>\n",
       "      <td>66</td>\n",
       "      <td>3828</td>\n",
       "    </tr>\n",
       "    <tr>\n",
       "      <th>UNIVERSITY OF CALIFORNIA, SAN FRANCISCO</th>\n",
       "      <td>2</td>\n",
       "      <td>3680</td>\n",
       "    </tr>\n",
       "    <tr>\n",
       "      <th>UNIVERSITY OF PENNSYLVANIA</th>\n",
       "      <td>65</td>\n",
       "      <td>3429</td>\n",
       "    </tr>\n",
       "    <tr>\n",
       "      <th>UNIVERSITY OF MICHIGAN</th>\n",
       "      <td>39</td>\n",
       "      <td>3046</td>\n",
       "    </tr>\n",
       "    <tr>\n",
       "      <th>UNIV OF NORTH CAROLINA CHAPEL HILL</th>\n",
       "      <td>88</td>\n",
       "      <td>2963</td>\n",
       "    </tr>\n",
       "  </tbody>\n",
       "</table>\n",
       "</div>"
      ],
      "text/plain": [
       "                                         total-fcoi-claims  total-grants\n",
       "JOHNS HOPKINS UNIVERSITY                                66          3828\n",
       "UNIVERSITY OF CALIFORNIA, SAN FRANCISCO                  2          3680\n",
       "UNIVERSITY OF PENNSYLVANIA                              65          3429\n",
       "UNIVERSITY OF MICHIGAN                                  39          3046\n",
       "UNIV OF NORTH CAROLINA CHAPEL HILL                      88          2963"
      ]
     },
     "execution_count": 24,
     "metadata": {},
     "output_type": "execute_result"
    }
   ],
   "source": [
    "# pd.merge(left_frame, right_frame, on='key', how='inner')\n",
    "org_merge = pandas.merge(fcoi_org_df, nih_org_df, left_index=True, right_index=True, how='inner')\n",
    "\n",
    "org_merge.to_csv(\"./csv/institution_fcoi_nih.csv\")\n",
    "\n",
    "org_merge.head()"
   ]
  }
 ],
 "metadata": {
  "kernelspec": {
   "display_name": "Python 2",
   "language": "python",
   "name": "python2"
  },
  "language_info": {
   "codemirror_mode": {
    "name": "ipython",
    "version": 2
   },
   "file_extension": ".py",
   "mimetype": "text/x-python",
   "name": "python",
   "nbconvert_exporter": "python",
   "pygments_lexer": "ipython2",
   "version": "2.7.10"
  }
 },
 "nbformat": 4,
 "nbformat_minor": 0
}
